{
 "cells": [
  {
   "cell_type": "markdown",
   "id": "1f125f84",
   "metadata": {},
   "source": [
    "**Алгоритмы анализа данных**\n",
    "\n",
    "**Урок 2. Масштабирование признаков. Регуляризация. Стохастический градиентный спуск**\n",
    "\n",
    "Домашнее задание №2."
   ]
  },
  {
   "cell_type": "code",
   "execution_count": 1,
   "id": "e7eb7b26",
   "metadata": {},
   "outputs": [],
   "source": [
    "import numpy as np\n",
    "import matplotlib.pyplot as plt"
   ]
  },
  {
   "cell_type": "markdown",
   "id": "889e9da3",
   "metadata": {},
   "source": [
    "1. Постройте график зависимости весов всех признаков от lambda в самописной L2-регуляризации (на данных про ЕГЭ). Сделайте вывод"
   ]
  },
  {
   "cell_type": "markdown",
   "id": "3999f9ca",
   "metadata": {},
   "source": [
    "__Задача:__ предсказание баллов ЕГЭ ученика"
   ]
  },
  {
   "cell_type": "code",
   "execution_count": 2,
   "id": "ac66b3f0",
   "metadata": {},
   "outputs": [],
   "source": [
    "X = np.array([[   1,    1,  500,    1],\n",
    "              [   1,    1,  700,    1],\n",
    "              [   1,    2,  750,    2],\n",
    "              [   1,    5,  600,    1],\n",
    "              [   1,    3, 1450,    2],\n",
    "              [   1,    0,  800,    1],\n",
    "              [   1,    5, 1500,    3],\n",
    "              [   1,   10, 2000,    3],\n",
    "              [   1,    1,  450,    1],\n",
    "              [   1,    2, 1000,    2]])"
   ]
  },
  {
   "cell_type": "code",
   "execution_count": 3,
   "id": "149a98c8",
   "metadata": {},
   "outputs": [],
   "source": [
    "y = [45, 55, 50, 55, 60, 35, 75, 80, 50, 60]"
   ]
  },
  {
   "cell_type": "code",
   "execution_count": 58,
   "id": "3b354a84",
   "metadata": {},
   "outputs": [],
   "source": [
    "def calc_mse(y, y_pred):\n",
    "    err = np.mean((y - y_pred)**2)\n",
    "    return err"
   ]
  },
  {
   "cell_type": "code",
   "execution_count": 59,
   "id": "05048cd9",
   "metadata": {},
   "outputs": [],
   "source": [
    "def eval_model_reg2(X, y, iterations, alpha=1e-4, lambda_=1e-8):\n",
    "    np.random.seed(42)\n",
    "    W = np.random.randn(X.shape[1])\n",
    "    n = X.shape[0]\n",
    "    for i in range(1, iterations+1):\n",
    "        y_pred = np.dot(X, W)\n",
    "        err = calc_mse(y, y_pred)\n",
    "        W -= alpha * (1/n * 2 * np.dot(X.T, (y_pred - y)) + lambda_ * W) \n",
    "#         if i % (iterations / 10) == 0:\n",
    "#             print(i, W, err)\n",
    "    return W"
   ]
  },
  {
   "cell_type": "code",
   "execution_count": 60,
   "id": "c13063c4",
   "metadata": {},
   "outputs": [],
   "source": [
    "def calc_std_fit(x):\n",
    "    res = (x - x.mean()) / x.std()\n",
    "    return res"
   ]
  },
  {
   "cell_type": "code",
   "execution_count": 61,
   "id": "6f0583a3",
   "metadata": {},
   "outputs": [
    {
     "name": "stdout",
     "output_type": "stream",
     "text": [
      "[-0.57735027 -0.57735027  1.73205081 -0.57735027]\n",
      "[-0.57735027 -0.57735027  1.73205081 -0.57735027]\n",
      "[-0.57940718 -0.57632113  1.73204943 -0.57632113]\n",
      "[-0.58249071 -0.5670349   1.73201633 -0.58249071]\n",
      "[-0.57894479 -0.57575501  1.73204971 -0.5773499 ]\n",
      "[-0.57638682 -0.57927597  1.7320496  -0.57638682]\n",
      "[-0.58043426 -0.57426353  1.73204669 -0.5773489 ]\n",
      "[-0.58158972 -0.57117319  1.73203785 -0.57927494]\n",
      "[-0.57735027 -0.57735027  1.73205081 -0.57735027]\n",
      "[-0.57889218 -0.57657893  1.73205004 -0.57657893]\n"
     ]
    }
   ],
   "source": [
    "X_st = X.copy().astype(np.float64)\n",
    "\n",
    "for i in range(len(X_st)):\n",
    "    X_st[i] = calc_std_fit(X_st[i])\n",
    "    print(X_st[i])"
   ]
  },
  {
   "cell_type": "code",
   "execution_count": 62,
   "id": "937686f4",
   "metadata": {},
   "outputs": [],
   "source": [
    "W = eval_model_reg2(X_st, y, iterations=5000, alpha=1e-2, lambda_=1e-4)"
   ]
  },
  {
   "cell_type": "code",
   "execution_count": 63,
   "id": "ae9bdcc1",
   "metadata": {},
   "outputs": [
    {
     "data": {
      "text/plain": [
       "array([-9.34768118, -5.96638327, 25.0914415 , -7.26082309])"
      ]
     },
     "execution_count": 63,
     "metadata": {},
     "output_type": "execute_result"
    }
   ],
   "source": [
    "W"
   ]
  },
  {
   "cell_type": "code",
   "execution_count": 67,
   "id": "a2fd2eba",
   "metadata": {},
   "outputs": [
    {
     "data": {
      "text/plain": [
       "array([1.000e-08, 1.020e-06, 2.030e-06, 3.040e-06, 4.050e-06, 5.060e-06,\n",
       "       6.070e-06, 7.080e-06, 8.090e-06, 9.100e-06, 1.011e-05, 1.112e-05,\n",
       "       1.213e-05, 1.314e-05, 1.415e-05, 1.516e-05, 1.617e-05, 1.718e-05,\n",
       "       1.819e-05, 1.920e-05, 2.021e-05, 2.122e-05, 2.223e-05, 2.324e-05,\n",
       "       2.425e-05, 2.526e-05, 2.627e-05, 2.728e-05, 2.829e-05, 2.930e-05,\n",
       "       3.031e-05, 3.132e-05, 3.233e-05, 3.334e-05, 3.435e-05, 3.536e-05,\n",
       "       3.637e-05, 3.738e-05, 3.839e-05, 3.940e-05, 4.041e-05, 4.142e-05,\n",
       "       4.243e-05, 4.344e-05, 4.445e-05, 4.546e-05, 4.647e-05, 4.748e-05,\n",
       "       4.849e-05, 4.950e-05, 5.051e-05, 5.152e-05, 5.253e-05, 5.354e-05,\n",
       "       5.455e-05, 5.556e-05, 5.657e-05, 5.758e-05, 5.859e-05, 5.960e-05,\n",
       "       6.061e-05, 6.162e-05, 6.263e-05, 6.364e-05, 6.465e-05, 6.566e-05,\n",
       "       6.667e-05, 6.768e-05, 6.869e-05, 6.970e-05, 7.071e-05, 7.172e-05,\n",
       "       7.273e-05, 7.374e-05, 7.475e-05, 7.576e-05, 7.677e-05, 7.778e-05,\n",
       "       7.879e-05, 7.980e-05, 8.081e-05, 8.182e-05, 8.283e-05, 8.384e-05,\n",
       "       8.485e-05, 8.586e-05, 8.687e-05, 8.788e-05, 8.889e-05, 8.990e-05,\n",
       "       9.091e-05, 9.192e-05, 9.293e-05, 9.394e-05, 9.495e-05, 9.596e-05,\n",
       "       9.697e-05, 9.798e-05, 9.899e-05, 1.000e-04])"
      ]
     },
     "execution_count": 67,
     "metadata": {},
     "output_type": "execute_result"
    }
   ],
   "source": [
    "lambda_list = np.linspace(1e-8, 1e-4, 100)\n",
    "lambda_list"
   ]
  },
  {
   "cell_type": "code",
   "execution_count": 77,
   "id": "af7087d5",
   "metadata": {},
   "outputs": [],
   "source": [
    "W_list_1 = []\n",
    "W_list_2 = []\n",
    "W_list_3 = []\n",
    "W_list_4 = []\n",
    "\n",
    "for lmbd in lambda_list:\n",
    "    W = eval_model_reg2(X_st, y, iterations=5000, alpha=1e-2, lambda_=lmbd)\n",
    "    W_list_1.append(W[0])\n",
    "    W_list_2.append(W[1])\n",
    "    W_list_3.append(W[2])\n",
    "    W_list_4.append(W[3])"
   ]
  },
  {
   "cell_type": "code",
   "execution_count": 78,
   "id": "2176e5f1",
   "metadata": {},
   "outputs": [
    {
     "data": {
      "text/plain": [
       "100"
      ]
     },
     "execution_count": 78,
     "metadata": {},
     "output_type": "execute_result"
    }
   ],
   "source": [
    "len(lambda_list)"
   ]
  },
  {
   "cell_type": "code",
   "execution_count": 84,
   "id": "7a6973cf",
   "metadata": {},
   "outputs": [
    {
     "data": {
      "image/png": "[encoded data removed]",
      "text/plain": [
       "<Figure size 432x288 with 1 Axes>"
      ]
     },
     "metadata": {
      "needs_background": "light"
     },
     "output_type": "display_data"
    }
   ],
   "source": [
    "# plt.scatter(W_list_1, lambda_list, c='r')\n",
    "# plt.scatter(W_list_2, lambda_list, c='g')\n",
    "# plt.scatter(W_list_3, lambda_list, c='b')\n",
    "plt.scatter(lambda_list, W_list_4, c='y')\n",
    "plt.show()"
   ]
  },
  {
   "cell_type": "code",
   "execution_count": 85,
   "id": "6baa7511",
   "metadata": {},
   "outputs": [
    {
     "data": {
      "image/png": "[encoded data removed]",
      "text/plain": [
       "<Figure size 432x288 with 1 Axes>"
      ]
     },
     "metadata": {
      "needs_background": "light"
     },
     "output_type": "display_data"
    }
   ],
   "source": [
    "plt.scatter(lambda_list, W_list_3, c='b')\n",
    "plt.show()"
   ]
  },
  {
   "cell_type": "code",
   "execution_count": 86,
   "id": "131986cf",
   "metadata": {},
   "outputs": [
    {
     "data": {
      "text/plain": [
       "<matplotlib.collections.PathCollection at 0x1d3ba39c1c0>"
      ]
     },
     "execution_count": 86,
     "metadata": {},
     "output_type": "execute_result"
    },
    {
     "data": {
      "image/png": "[encoded data removed]",
      "text/plain": [
       "<Figure size 432x288 with 1 Axes>"
      ]
     },
     "metadata": {
      "needs_background": "light"
     },
     "output_type": "display_data"
    }
   ],
   "source": [
    "plt.scatter(lambda_list, W_list_2, c='g')\n"
   ]
  },
  {
   "cell_type": "markdown",
   "id": "3e525944",
   "metadata": {},
   "source": [
    "2. Напишите функцию наподобие gradient_descent_reg_l2, но для применения L1-регуляризации."
   ]
  },
  {
   "cell_type": "markdown",
   "id": "c5a48550",
   "metadata": {},
   "source": [
    "$$Q(w, X) + \\lambda |w| \\rightarrow \\underset{w}{\\text{min}}.$$\n"
   ]
  },
  {
   "cell_type": "code",
   "execution_count": 96,
   "id": "20b77185",
   "metadata": {},
   "outputs": [],
   "source": [
    "def gradient_descent_reg_l1(X, y, iterations, alpha=1e-4, lambda_=1e-8):\n",
    "    W = np.random.randn(X.shape[1])\n",
    "    n = X.shape[0]\n",
    "    \n",
    "    for i in range(0, iterations):\n",
    "        y_pred = np.dot(X, W)\n",
    "        err = calc_mse(y, y_pred)\n",
    "        \n",
    "        dQ = 2/n * X.T @ (y_pred - y) # градиент функции ошибки\n",
    "        # градиент регуляризации\n",
    "        dReg = lambda_*np.sign(W)\n",
    "        \n",
    "        W -= alpha * (dQ + dReg)\n",
    "        \n",
    "        if i % (iterations / 10) == 0:\n",
    "            print(f'Iter: {i}, weights: {W}, error {err}')\n",
    "    \n",
    "    print(f'Final MSE: {calc_mse(y, np.dot(X, W))}')\n",
    "    return W"
   ]
  },
  {
   "cell_type": "code",
   "execution_count": 97,
   "id": "a0367735",
   "metadata": {},
   "outputs": [
    {
     "name": "stdout",
     "output_type": "stream",
     "text": [
      "Iter: 0, weights: [-1.13074635 -0.11360985  1.51367117 -1.12537675], error 3417.6268979101683\n",
      "Iter: 500, weights: [-8.8987739  -7.43521505 24.24997329 -8.77204603], error 160.18636190483267\n",
      "Iter: 1000, weights: [-9.06596    -7.20558648 24.2496316  -8.83414671], error 160.1694544796257\n",
      "Iter: 1500, weights: [-9.23312442 -6.97599864 24.24928997 -8.8962284 ], error 160.1525527172285\n",
      "Iter: 2000, weights: [-9.40026716 -6.74645153 24.2489484  -8.9582911 ], error 160.13565661564922\n",
      "Iter: 2500, weights: [-9.56738822 -6.51694514 24.24860688 -9.02033481], error 160.118766172897\n",
      "Iter: 3000, weights: [-9.7344876  -6.28747946 24.24826542 -9.08235955], error 160.10188138698155\n",
      "Iter: 3500, weights: [-9.90156531 -6.05805449 24.24792402 -9.14436531], error 160.08500225591325\n",
      "Iter: 4000, weights: [-10.06862136  -5.82867021  24.24758267  -9.2063521 ], error 160.06812877770315\n",
      "Iter: 4500, weights: [-10.23565574  -5.59932662  24.24724138  -9.26831991], error 160.0512609503631\n",
      "Final MSE: 160.03439877190567\n"
     ]
    }
   ],
   "source": [
    "W_L1 = gradient_descent_reg_l1(X_st, y, iterations=5000, alpha=1e-2, lambda_=1e-8)"
   ]
  },
  {
   "cell_type": "markdown",
   "id": "5cad89fd",
   "metadata": {},
   "source": [
    "3. *Можно ли к одному и тому же признаку применить сразу и нормализацию, и стандартизацию?"
   ]
  },
  {
   "cell_type": "code",
   "execution_count": null,
   "id": "a8ec24f4",
   "metadata": {},
   "outputs": [],
   "source": [
    "да"
   ]
  },
  {
   "cell_type": "markdown",
   "id": "c8802f1e",
   "metadata": {},
   "source": [
    "4. *Сгенерируйте датасет при помощи <code>sklearn.datasets.make_regression</code> и обучите линейную модель при помощи градиентного и стохастического градиентного спуска. Нанесите среднеквадратичную ошибку для обоих методов на один график, сделайте выводы о разнице скорости сходимости каждого из методов."
   ]
  },
  {
   "cell_type": "code",
   "execution_count": 102,
   "id": "9186a5a0",
   "metadata": {},
   "outputs": [],
   "source": [
    "from sklearn import datasets\n",
    "from sklearn import linear_model\n"
   ]
  },
  {
   "cell_type": "code",
   "execution_count": 103,
   "id": "29f94191",
   "metadata": {},
   "outputs": [],
   "source": [
    "data, target, coef = datasets.make_regression(n_samples = 1000, n_features = 2, n_informative = 2, n_targets = 1, \n",
    "                                              noise = 5, coef = True, random_state = 2)\n"
   ]
  },
  {
   "cell_type": "code",
   "execution_count": 109,
   "id": "597af112",
   "metadata": {},
   "outputs": [
    {
     "data": {
      "text/plain": [
       "array([[ 0.37879447, -0.61837549],\n",
       "       [-0.65293115, -1.06706712],\n",
       "       [-1.06581629, -0.34682333],\n",
       "       ...,\n",
       "       [ 1.19451016,  1.00147133],\n",
       "       [ 0.1256231 ,  0.35261274],\n",
       "       [-0.05674652,  0.41214611]])"
      ]
     },
     "execution_count": 109,
     "metadata": {},
     "output_type": "execute_result"
    }
   ],
   "source": [
    "data"
   ]
  },
  {
   "cell_type": "code",
   "execution_count": 110,
   "id": "48aeeac2",
   "metadata": {},
   "outputs": [
    {
     "data": {
      "text/plain": [
       "array([-2.61123036e+01, -1.22254125e+02, -9.33701155e+01,  2.23698676e+01,\n",
       "       -1.19353069e+00,  7.55093913e+01,  4.17391914e+00,  3.37850492e+01,\n",
       "       -4.13327830e+01, -1.71060319e+00,  6.91533479e+01, -3.84944494e+01,\n",
       "       -1.40841311e+01, -7.87094871e+00,  2.24655412e+01,  3.52449558e+01,\n",
       "        3.54202311e+01,  4.54019343e+01,  3.93612257e+01,  1.13645719e-01,\n",
       "       -1.23294801e+01,  1.18940297e+02,  2.90747757e+02,  1.07353713e+01,\n",
       "        1.33621709e+02, -8.58105655e+01, -1.19323461e+01,  5.66776267e+01,\n",
       "        1.45867826e+02, -2.72626165e+02, -3.86689973e+00,  4.64700598e+01,\n",
       "        1.34844522e+02,  1.01167107e+01,  1.02407708e+01,  1.50555004e+01,\n",
       "        6.05940840e+01, -1.46615087e-01, -1.04571676e+02, -1.09697817e+02,\n",
       "        1.21274981e+01,  9.99648515e+01,  8.47610760e+01, -1.05265489e+02,\n",
       "        1.35034101e+02, -3.24978496e+02,  6.56243085e+01, -4.80030943e+01,\n",
       "        8.43343786e+01,  3.38914896e+00,  2.65015621e+01,  6.26227854e+01,\n",
       "       -1.45046490e+02,  5.99890287e+01, -4.29487922e+01, -6.21770636e+01,\n",
       "       -7.43718851e+01,  1.41640904e+01,  7.62513523e+01, -9.31185763e+01,\n",
       "       -4.63520375e+01,  4.29125963e+01, -9.66584329e+00,  8.93121009e+01,\n",
       "       -4.03193579e+01, -1.01379573e+02,  1.01841520e+02, -5.15662519e+01,\n",
       "       -4.52628857e+01, -1.87124862e+01, -9.12844792e+01,  3.59927570e+01,\n",
       "        6.17592461e+01,  2.22494640e+02,  1.32434204e+02, -3.60881053e+01,\n",
       "        6.22684440e+01,  1.17243754e+02, -7.81544631e+01, -1.15367499e+02,\n",
       "        2.07386737e+02, -1.05860234e+02,  1.85276901e+01, -1.28578014e+02,\n",
       "        3.16618174e+01,  4.66424452e+01, -1.25927975e+02,  3.92521273e+01,\n",
       "       -6.16557147e+01, -7.16591893e+01, -5.25599518e+01,  8.57629576e+01,\n",
       "        1.21017018e+02, -4.52865631e+01,  1.01235726e+02, -5.85374634e+01,\n",
       "        1.54127676e+02,  7.97155843e+01, -1.80370851e+02,  1.90235368e+01,\n",
       "        1.25097722e+00,  8.85002223e+01, -1.51621734e+02,  1.41323799e+02,\n",
       "        4.18851676e+01,  5.20369920e+01, -4.25228301e+01,  1.09583957e+02,\n",
       "       -7.91647431e+01, -4.74113606e+00, -2.52046023e+02, -2.69093444e+01,\n",
       "        5.19952741e+01, -8.64234670e+01, -5.25334656e-01, -6.78597223e+01,\n",
       "        1.17300246e+01,  6.97830260e+01, -5.55128430e+01, -1.49814920e+02,\n",
       "       -3.20406862e+01, -6.54315386e+01, -9.20757249e+00,  1.62937115e+02,\n",
       "       -6.42369455e+01,  2.13940023e+02, -1.90901395e+02, -9.77602152e+01,\n",
       "       -4.43268555e+01,  1.47342417e+01, -8.54881576e+01,  7.22014476e+00,\n",
       "        1.36013024e+02,  5.02397565e+01,  4.87812888e+01,  1.36143655e+01,\n",
       "        6.87647966e+01,  3.61672551e+01, -7.59032358e+01, -2.00121857e+02,\n",
       "        1.16208277e+01,  4.31042606e+01,  3.16115880e+01, -4.75901362e+01,\n",
       "       -1.29087233e+02, -5.53559217e+01,  1.50745846e+01,  1.70758154e+01,\n",
       "       -1.53630565e+02,  1.71958382e+01, -1.83512595e+02,  2.43362655e+01,\n",
       "       -4.50652116e+01, -2.92099620e+00,  1.23015030e+02, -1.11788567e+02,\n",
       "        8.50991008e+01, -1.46376768e+02,  3.27701445e+01, -2.93018471e+01,\n",
       "        4.69203461e+01,  1.08423413e+02, -6.13209350e+01,  4.94785289e+01,\n",
       "       -1.41109577e+02,  4.33054311e+01, -1.52549152e+02, -2.46530040e+01,\n",
       "       -1.00874101e+02,  3.38889732e+01, -1.23153355e+02,  2.17420651e+02,\n",
       "        5.46966513e+01,  4.06833605e+01,  1.16655415e+02,  1.47106932e+02,\n",
       "        2.81929267e+01, -1.11048654e+02,  7.80397611e+01, -3.49932950e+00,\n",
       "        9.91980807e+00,  7.16777443e+00,  9.55759488e+01,  1.06216158e+02,\n",
       "        1.54782642e+02, -2.26334446e+01, -7.82932490e+01,  1.73939404e+02,\n",
       "        1.75698853e+02, -4.76494719e+01, -1.27657625e+02, -5.11138947e+01,\n",
       "       -9.78206844e+00, -1.29280315e+02, -1.22503741e+02,  7.65780719e+01,\n",
       "       -2.11869965e+02,  3.06571220e+01, -7.66394137e+01, -1.24552588e+02,\n",
       "       -3.56285913e+01,  6.00062639e+01, -1.11473800e+02, -2.70266744e+00,\n",
       "       -6.21499474e+01,  1.28866824e+02,  3.57562503e+01, -1.63234454e+02,\n",
       "        1.83023392e+01, -1.37009065e+02, -4.88380133e+01, -1.61400354e+02,\n",
       "        2.58238176e+01, -1.71481525e+02,  7.17168100e+01, -1.51549918e+02,\n",
       "       -7.31412133e+01, -8.62281492e+01, -1.66868840e+01,  1.40935437e+02,\n",
       "        5.57925015e+01, -1.56402975e+02, -1.22790672e+02, -1.40778628e+02,\n",
       "       -7.18758210e+01, -6.87462711e+01, -1.38957317e+01, -1.73461298e+02,\n",
       "       -3.76770515e+01,  7.76924609e+01,  1.74823500e+02,  1.53499233e+02,\n",
       "       -3.31312744e+01,  7.71680849e+01, -8.79504754e+01, -3.24639116e+01,\n",
       "       -5.35527646e+01,  1.95842854e+02,  3.35714470e+00,  5.11947797e+01,\n",
       "        3.12736009e+01,  8.11437215e+01, -8.29488116e+01,  5.30395852e+01,\n",
       "       -2.77664212e+01, -4.38009254e+01,  3.43211816e+01,  7.56218288e+00,\n",
       "       -2.83344315e+01,  3.81263689e+01,  6.90682668e+01, -7.27304368e+01,\n",
       "       -1.94558174e+01, -7.94634380e+01,  2.19422785e+02, -6.32058902e+01,\n",
       "       -1.00445761e+02, -4.70053506e+01, -1.95597242e+01, -1.02558330e+02,\n",
       "       -1.00434144e+02,  1.39166519e+02, -1.37781213e+02,  2.10456615e+01,\n",
       "        1.53807527e+02,  4.82381452e+01,  9.19882759e+01,  8.86443171e+01,\n",
       "        3.36746742e+01, -7.15218367e+01, -6.79874189e+01,  3.58485159e+01,\n",
       "        1.14037947e+02,  5.88694911e+01,  2.89656802e+01, -1.92212573e+01,\n",
       "       -2.15755242e+02,  6.32586245e+01, -1.09385437e+02,  1.11195633e+02,\n",
       "        6.83161018e+01, -7.22547529e+01, -4.94899902e+01,  5.12699554e+01,\n",
       "       -5.64041836e+01, -3.49849293e+01,  7.51632837e+01, -1.06282835e+02,\n",
       "       -1.52944899e+02,  1.43720730e+02,  7.40856903e+01,  6.23607516e+01,\n",
       "        7.95378817e+00, -1.33696648e+02,  3.44960554e+01, -1.28476614e+01,\n",
       "        4.92297625e+01, -5.49095870e+01, -5.22363136e+01, -3.17464973e+01,\n",
       "        6.76710400e+01, -7.09109912e+00, -5.21825216e+01,  1.66279830e+02,\n",
       "       -7.70948273e+01, -5.28934618e+01,  1.14456807e+02,  5.97281267e+01,\n",
       "       -3.74767202e+01, -1.87988738e+01, -9.62567938e+01,  6.12507614e+01,\n",
       "        1.08598319e+02, -6.90957649e+01, -1.26634856e+02, -1.60658799e+01,\n",
       "        8.04013711e+01, -9.39713230e+01, -5.24077123e+01, -8.66848307e+01,\n",
       "        1.26797195e+02, -1.94170159e+01, -6.16451342e+01, -1.00573544e+02,\n",
       "        5.53269236e+01, -1.13977889e+02, -1.20668952e+02, -4.10033533e+01,\n",
       "        1.93359236e+01, -8.33637331e+01, -1.12059533e+02, -8.25593895e+01,\n",
       "        1.62928017e+02,  6.52366217e+01, -2.27313972e+02,  2.36210943e+01,\n",
       "        6.37784088e+01, -7.88244509e+01, -7.56402104e+00,  6.13010734e-01,\n",
       "       -3.63529545e+00, -1.38541709e+02,  2.78577077e+01,  3.63657284e+01,\n",
       "        8.48711063e+01,  2.12988667e+01, -5.46537760e+01,  8.33274018e+01,\n",
       "       -1.72486438e+02, -7.93426033e+00, -7.44169633e+01, -2.87813091e+01,\n",
       "       -6.44510912e+00,  2.12273173e+00,  2.32935544e+00,  1.05194084e+02,\n",
       "       -3.79526683e+01, -5.73991156e+01,  1.55465577e+02,  1.23034646e+02,\n",
       "        2.42548332e+02,  5.68040766e+01, -2.41939948e+01,  4.34050342e+01,\n",
       "        1.11492793e+01,  1.54727891e+01, -1.01363158e+00, -2.67481387e+01,\n",
       "       -5.04025385e+01,  6.59664755e+01,  6.27144274e+01, -1.42624267e+02,\n",
       "       -6.02778342e+01, -4.19319983e+01,  6.46795774e+01,  1.92643420e+02,\n",
       "       -2.63345961e+00, -1.04025968e+02, -2.61025984e+02, -8.84772284e+01,\n",
       "       -4.06520575e+01,  3.51804487e+01,  9.02302386e+01, -4.63205226e+01,\n",
       "       -1.49723268e+02, -1.12700513e+01,  1.86843230e+02, -4.81354243e+01,\n",
       "        7.64046251e+01,  2.99280359e+01,  1.83673284e+02, -8.13474507e+01,\n",
       "        1.29158499e+02, -6.26700113e+01, -5.83251685e+01,  6.10773820e+01,\n",
       "        9.80870954e+01,  7.44815241e+01,  4.96719229e+01, -1.17832066e+02,\n",
       "        3.90462664e+00, -5.74875075e+01,  4.06001471e+01, -7.37328152e+01,\n",
       "       -7.65652066e+01, -1.12682658e+02, -1.15889636e+02, -5.19324723e+00,\n",
       "       -3.26278695e+01,  1.56670157e+02, -9.27239033e+01,  6.48705982e+01,\n",
       "        9.08028109e+01, -9.25654826e+01, -5.49474455e+00, -4.02669576e+01,\n",
       "        3.89694142e+01,  1.36969898e+02, -6.69190386e+00,  5.08774271e+01,\n",
       "        3.84477226e+01, -1.02813510e+02, -7.63088142e+01, -4.96375227e+01,\n",
       "       -4.58536539e+01, -8.24288235e+01, -1.84770921e+01,  1.40477893e+02,\n",
       "       -5.48175417e+01, -4.53224368e+01, -5.89806353e+01,  8.80530593e+01,\n",
       "       -1.90458992e+01, -1.32411946e+02, -1.05296446e+02, -6.82443627e+01,\n",
       "       -2.85878896e+01,  2.15019745e+01,  4.67381430e+01, -4.92576372e+01,\n",
       "        8.91436842e-01,  3.99966838e+01, -2.65801742e+01, -1.23298038e+00,\n",
       "       -1.09860555e+02,  1.02412102e+02, -6.06778497e+00, -2.69204167e+01,\n",
       "       -4.02738665e+01, -6.48855000e+01,  2.80686898e+00, -6.85078799e+00,\n",
       "       -2.30915158e+01, -1.18681501e+02, -9.12061469e+00,  9.95855229e+01,\n",
       "       -1.91517916e+00,  2.87512689e+01,  5.55112011e+01, -1.63092949e+02,\n",
       "        4.23447136e+01,  2.91609944e+01,  2.27493044e+01,  9.71245322e+00,\n",
       "        1.61972545e+02,  1.52836241e+00,  8.25630465e+01,  4.64672169e+01,\n",
       "        4.16521527e+01, -2.31917083e+01, -6.71330835e+01, -1.04022173e+02,\n",
       "        3.56184505e+01,  1.13054720e+02,  7.83825316e+01,  3.56327369e+01,\n",
       "        1.09017662e+02, -1.85866482e+02,  2.57415087e+01, -1.92316194e+01,\n",
       "        7.81907520e+01, -4.31135625e+01, -2.53988344e+01,  9.76907903e+00,\n",
       "       -3.40706744e+01,  4.60493706e+01,  3.80989283e+00,  6.53747320e+01,\n",
       "        1.30690616e+02,  8.99745496e+01,  9.48065031e+01,  1.22084011e+02,\n",
       "        7.70105030e+01, -5.96343771e+00, -2.67821506e+01, -1.13365906e+02,\n",
       "        8.19719920e+01, -2.51323591e+00,  1.46039496e+01, -1.83789133e+02,\n",
       "       -7.27587598e+00, -1.34819039e+02,  2.24356844e+01,  1.85321761e+02,\n",
       "       -1.92308995e+01, -1.50702825e+02, -1.81094398e+01,  6.89114159e+01,\n",
       "        5.28371429e+01, -1.84633713e+02, -1.80976146e+02, -2.72958441e+02,\n",
       "        9.62702660e+01, -8.61528395e+01,  7.21042455e+01,  2.14472824e+01,\n",
       "       -1.05530026e+02,  1.46996963e+02, -1.00939676e+02,  4.17269853e+01,\n",
       "        3.07478414e+01, -2.41927805e+01, -1.37861537e+02, -8.10733697e+01,\n",
       "        1.06905678e+02,  1.28308981e+02,  9.71088589e+01,  4.55386216e+01,\n",
       "       -9.75507186e+01, -6.08454431e+01, -1.01267091e+02, -1.28771111e+00,\n",
       "       -1.08417396e+02, -4.09575296e+01, -1.56523326e+01,  2.01747245e+01,\n",
       "        2.75025354e+00, -4.98558831e+01, -9.64707547e+01,  4.54118775e+01,\n",
       "       -1.80915958e+02, -2.95452341e+01, -1.17335320e+02,  8.05968121e+01,\n",
       "       -1.29305292e+02, -3.08560293e+01, -3.66369694e+00, -1.11341242e+02,\n",
       "       -1.70091373e+02,  9.63095544e+01, -1.19723753e+02,  5.84204325e+01,\n",
       "        2.06164044e+02,  6.02379688e+01,  1.13848480e+02,  2.04353725e+02,\n",
       "        1.44917062e+01, -2.09960733e+02,  1.73973099e+02, -2.76843277e+02,\n",
       "       -2.27585533e+01, -5.46402197e+01,  2.57704448e+01, -5.59080635e+01,\n",
       "       -3.22248993e+01, -5.70258222e+01,  4.10118287e+01, -8.42111657e+01,\n",
       "        2.09966041e+01,  3.45912825e+01,  1.56347054e+02,  4.89908971e+01,\n",
       "        2.37730886e+01,  1.08046973e+01, -3.05467954e+00, -9.99292395e+00,\n",
       "       -3.94930174e+01,  7.84728920e+01, -3.31914349e+01, -2.94868082e+01,\n",
       "        1.77195746e+01,  7.30332614e+01,  5.96119926e+01, -3.25941791e+01,\n",
       "       -6.28172774e+01,  4.68939774e+01,  2.82576918e+01, -8.72310353e+01,\n",
       "       -2.24536044e+01, -8.39966096e+01, -1.45305848e+02, -2.93171553e+01,\n",
       "        4.44471993e+01,  9.21433778e+01,  1.65492725e+02, -7.24197452e+00,\n",
       "        1.11662978e+02, -2.47056670e+01,  7.85140285e+01, -2.45115818e+01,\n",
       "       -3.50003769e+01, -1.67560620e+02, -6.01022968e+01, -6.89553001e+01,\n",
       "       -9.58310676e+01, -1.61452063e+02,  1.74516456e+01, -6.81417620e+01,\n",
       "       -1.59227201e+02, -1.20056233e+02,  3.48082809e+01,  7.61802721e+01,\n",
       "        1.39045433e+02,  1.39303202e+01, -1.25159768e+01, -2.64270660e+01,\n",
       "       -1.30699556e+02, -7.87190930e+01, -1.36870431e+02, -2.17472738e+02,\n",
       "        4.57024529e+01,  3.24526980e+02, -8.37659787e+01, -6.84992042e+01,\n",
       "       -1.40089478e+01, -1.39983298e+02,  2.60815924e+01,  1.24692950e+02,\n",
       "        7.82475840e-03, -4.21902475e+00,  1.54693241e+02,  8.80049325e+00,\n",
       "        6.84869726e+01, -7.59692524e+01,  7.19975868e+01,  1.21603840e+01,\n",
       "        4.71133936e+01, -9.93432937e+01, -1.50210045e+01,  3.60662742e+00,\n",
       "        7.67179236e+01, -2.34718917e+01,  6.82308573e+01,  3.90479528e+01,\n",
       "        3.26275481e+01,  7.95306332e+01, -1.88713973e+02, -1.41118225e+02,\n",
       "        7.43866902e+01,  2.47117445e+01, -7.31088627e+01,  2.51968576e+01,\n",
       "       -1.60133832e+01,  2.13168023e+01, -4.81133647e+01,  5.14572662e+01,\n",
       "        3.09521996e+01,  1.07192307e+02, -3.29771725e+01,  4.91915390e+01,\n",
       "       -5.75043725e+01,  1.20494155e+02,  2.34376369e+01, -7.73573602e+01,\n",
       "        1.53806197e+01, -4.38674422e+01,  1.76277202e+02, -1.18820944e+02,\n",
       "        9.97742392e+01, -1.42088729e+01,  5.79291316e+01, -2.19734207e+01,\n",
       "        6.10640950e+01,  4.52498780e+01, -4.93854104e+01,  2.55869401e+01,\n",
       "        5.91158176e+01,  1.06956141e+02, -1.15347764e+01, -3.32444405e+01,\n",
       "       -7.15386416e+01,  1.06008226e+02,  1.15013634e+02,  4.98591810e+01,\n",
       "        8.23456995e+01, -6.43468518e+01, -2.11996546e+01, -2.28156375e+02,\n",
       "        2.33986883e+00,  1.82211930e+02,  5.52515850e+01, -5.48297280e+01,\n",
       "        1.12261878e+02,  1.63316483e+01, -1.45361926e+01, -1.91766396e+01,\n",
       "        8.16038091e+01, -3.03565020e+01, -8.00470891e+01, -1.42628005e+01,\n",
       "        5.49137140e+01,  1.12668475e+02,  2.78637371e+01, -1.13385977e+01,\n",
       "        4.81088347e+01, -1.53474263e+02, -5.94558325e+00, -1.25315575e+02,\n",
       "        7.79037189e+01, -8.10073501e+01, -1.35761824e+02, -1.58034260e+00,\n",
       "       -8.40332429e+01, -1.05785588e+02,  4.10050710e+01, -3.17567355e+01,\n",
       "       -1.65131736e+01,  1.56151735e+01, -2.23172923e+02, -6.17383250e+01,\n",
       "       -6.95182192e+01, -2.55111977e-01, -8.82378558e+01,  3.74901698e+01,\n",
       "        6.28117323e+01,  3.47008424e+01,  4.73753129e+01,  1.82531234e+01,\n",
       "        1.71572431e+01,  3.55781369e+01,  2.84106472e+01, -1.07120358e+02,\n",
       "        6.04741330e+01, -6.86185529e+01,  6.82751195e+01, -4.80875350e+01,\n",
       "       -9.34451943e+01,  1.17154945e+02,  7.03167464e+00, -2.30785149e+01,\n",
       "        1.70806902e+02,  2.48159075e+01, -3.20748471e+00, -2.67416518e+01,\n",
       "       -2.91923613e+00,  9.40769951e+01, -4.73057721e+01,  4.07490829e+01,\n",
       "        8.88481492e+01, -2.80892126e+02, -2.86502213e+01, -1.09919859e+02,\n",
       "       -8.60462018e+00, -1.56602879e+01, -3.85155763e+01,  6.71463126e+01,\n",
       "       -1.20396366e+02,  2.32898019e+01,  1.35862207e+01,  8.60574083e+01,\n",
       "        8.94863622e+01, -1.97431038e+00, -1.42231415e+01, -4.30123801e+01,\n",
       "       -1.46185051e+02,  9.96759147e+00, -1.81599126e+02, -8.53484399e+01,\n",
       "       -8.49881136e+01,  6.40943130e+01,  1.42241510e+02, -3.54311882e+01,\n",
       "       -8.05682643e+01, -2.90908989e+01, -6.85825067e+00,  2.88212293e+01,\n",
       "        8.05242880e+01,  1.53762806e+02, -3.37428562e+01,  7.18084308e+01,\n",
       "        1.02889777e+02, -1.19661145e+02, -1.72326875e+02,  2.44089266e+02,\n",
       "       -9.07477888e+01, -2.83284648e+01, -1.18353030e+02, -4.90705931e+01,\n",
       "       -1.81161417e+02,  4.54374600e+01, -5.59787188e+01, -7.56809236e+00,\n",
       "       -7.51981237e+00,  1.83846084e+01,  2.75413743e+01, -8.85995196e+01,\n",
       "        1.06700052e+02,  1.39160244e+02, -9.95982962e+01, -1.74547253e+01,\n",
       "       -1.57375916e+02, -2.76479817e+01,  3.45898727e+01, -8.73988727e+01,\n",
       "        7.65474634e+01,  1.33104348e+02,  7.91587561e+01, -1.31761099e+02,\n",
       "       -5.76272792e+01, -2.31563755e+01, -3.88065649e+00, -3.46905532e+01,\n",
       "        1.96245506e+02,  2.69770128e+01, -3.15126904e-01, -3.87322774e+01,\n",
       "       -4.78237487e+01, -2.59544561e+01, -4.70596657e+01, -2.99216034e+01,\n",
       "       -8.54653900e+01, -8.12857148e+01,  3.23106475e+01,  2.92093436e+01,\n",
       "        5.88833981e+01,  1.43456765e+02, -1.20084236e+02, -1.72539756e+02,\n",
       "        6.46684708e+01, -5.41508890e+01, -1.12523096e+02,  2.43239161e+01,\n",
       "       -5.00189524e+01, -7.18233301e+01,  6.09457937e+01, -1.07598698e+01,\n",
       "        1.45746101e+02,  7.16834835e+01,  5.34830116e+00,  1.39162621e+01,\n",
       "        8.21005364e+00,  8.20674994e+01,  1.55659063e+02,  6.22351757e+01,\n",
       "       -8.87323502e+01, -1.33223394e+02, -6.16909779e+01,  5.18637615e+01,\n",
       "        1.14072190e+02, -5.14467175e+01,  1.02432514e+00, -1.27705485e+01,\n",
       "        2.36883907e+01, -7.03504376e+00,  5.76174429e+01, -9.75058551e+01,\n",
       "        5.70896520e+01,  6.77017990e+01, -3.40948542e+01, -3.61727004e+01,\n",
       "        3.25984330e+01, -1.70224837e+02, -1.21617912e+01,  3.06350353e+01,\n",
       "       -4.72940809e+01, -1.16038092e+01,  7.31033141e+00,  5.57897873e+01,\n",
       "       -2.03508570e+01, -5.44666083e+01,  6.80311757e+01,  1.76611354e+02,\n",
       "       -2.24277061e+01, -4.18014296e+01,  5.44341052e+01, -6.57449517e+01,\n",
       "       -1.48469466e+02,  2.05183376e+02, -1.14086796e+02,  1.54710874e+02,\n",
       "        3.52782285e+01,  4.79747856e+01, -9.59423681e+01, -1.26556594e+01,\n",
       "        5.73153341e+01,  7.95651704e+01, -6.76573246e+01,  7.15316933e+01,\n",
       "        1.24114121e+01,  1.34870713e+02,  1.43783014e+02,  1.26486405e+00,\n",
       "       -5.24625134e+01,  8.41132679e+01, -6.09924291e+01,  9.85593207e+01,\n",
       "        2.08555701e+02, -5.64521113e+01, -2.28445854e+01,  3.73556606e+01,\n",
       "       -2.23507566e+01, -9.00654471e+01,  4.39925836e+01, -4.80500357e+01,\n",
       "        5.70702300e+01, -6.93522578e+01, -1.29185817e+02,  8.92586988e+01,\n",
       "        1.61003947e+02, -3.92465028e+01, -8.48609255e+01,  4.85076172e+01,\n",
       "       -1.32999311e+01, -1.28280041e+00,  1.22702254e+02, -3.52058414e+01,\n",
       "       -1.02637612e+01,  5.87630589e+01,  9.67854977e+01, -3.27935331e+01,\n",
       "        1.26527034e+02,  1.34028441e+02,  4.41918569e+01, -5.58935989e+01,\n",
       "        6.64336802e+01, -1.47421676e+02, -3.40946427e+01, -1.07770705e+02,\n",
       "       -1.46814000e+02, -2.83718307e+01,  1.62198510e+01, -1.24220761e+01,\n",
       "        6.54239677e+01, -3.89185667e+01, -3.14512778e+00,  1.59811221e+02,\n",
       "        1.39756932e+02,  4.77209141e+00,  1.24282499e+00, -4.32423446e+01,\n",
       "       -7.31831817e+01,  2.04595100e+01,  1.02387723e+02, -1.34464225e+02,\n",
       "       -6.35179090e+01, -1.14569368e+02, -1.19314123e+02,  6.66453562e+01,\n",
       "        3.12608944e+01, -9.79765493e+01,  1.35570455e+02,  1.01344345e+02,\n",
       "       -5.20904461e+01,  7.51944198e+01,  7.34760597e+01,  1.13641748e+02,\n",
       "        2.40061269e+01,  2.34097166e+02,  8.31246936e+01, -3.43058990e+01,\n",
       "       -1.08032234e+02, -1.60324417e+02,  1.98476991e+02, -9.62030573e+01,\n",
       "       -8.68506107e+01,  6.68097718e+00, -4.49133291e+01,  1.59243134e+02,\n",
       "       -8.26818310e+01,  3.40522270e+01, -1.70317530e+02,  1.18334165e+02,\n",
       "       -5.80754300e+01,  6.35333474e+00, -1.26310577e+02,  4.14361364e+01,\n",
       "       -1.20737095e+02, -4.04273986e+01,  4.34362978e+01, -2.88889410e+01,\n",
       "       -2.17432017e+01,  1.29972271e+01,  3.21141673e+01,  1.34002288e+01,\n",
       "       -1.22308780e+02, -4.71479256e+00, -3.74985938e+01, -3.73074245e+01,\n",
       "       -7.11538167e+01,  4.07285130e+01, -2.63881146e+01,  3.61673161e+01,\n",
       "        3.52855328e+01, -2.77895009e+01, -3.23213754e+01, -6.84246892e+01,\n",
       "       -1.31111751e+01,  1.41659624e+02,  2.74930364e+01,  1.92340866e+01])"
      ]
     },
     "execution_count": 110,
     "metadata": {},
     "output_type": "execute_result"
    }
   ],
   "source": [
    "target"
   ]
  },
  {
   "cell_type": "code",
   "execution_count": 111,
   "id": "0cf24a8a",
   "metadata": {},
   "outputs": [
    {
     "data": {
      "text/plain": [
       "array([62.6735955, 68.0472182])"
      ]
     },
     "execution_count": 111,
     "metadata": {},
     "output_type": "execute_result"
    }
   ],
   "source": [
    "coef"
   ]
  },
  {
   "cell_type": "code",
   "execution_count": 105,
   "id": "e48bd470",
   "metadata": {},
   "outputs": [
    {
     "data": {
      "text/plain": [
       "LinearRegression()"
      ]
     },
     "execution_count": 105,
     "metadata": {},
     "output_type": "execute_result"
    }
   ],
   "source": [
    "# создадим модель\n",
    "linear_regressor = linear_model.LinearRegression()\n",
    "\n",
    "# обучим её\n",
    "linear_regressor.fit(data, target)"
   ]
  },
  {
   "cell_type": "code",
   "execution_count": null,
   "id": "c8dc261d",
   "metadata": {},
   "outputs": [],
   "source": []
  }
 ],
 "metadata": {
  "kernelspec": {
   "display_name": "Python 3 (ipykernel)",
   "language": "python",
   "name": "python3"
  },
  "language_info": {
   "codemirror_mode": {
    "name": "ipython",
    "version": 3
   },
   "file_extension": ".py",
   "mimetype": "text/x-python",
   "name": "python",
   "nbconvert_exporter": "python",
   "pygments_lexer": "ipython3",
   "version": "3.9.7"
  }
 },
 "nbformat": 4,
 "nbformat_minor": 5
}
