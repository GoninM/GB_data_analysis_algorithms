{
 "cells": [
  {
   "cell_type": "markdown",
   "id": "1f125f84",
   "metadata": {},
   "source": [
    "**Алгоритмы анализа данных**\n",
    "\n",
    "**Урок 2. Масштабирование признаков. Регуляризация. Стохастический градиентный спуск**\n",
    "\n",
    "Домашнее задание №2."
   ]
  },
  {
   "cell_type": "code",
   "execution_count": 1,
   "id": "e7eb7b26",
   "metadata": {},
   "outputs": [],
   "source": [
    "import numpy as np\n",
    "import matplotlib.pyplot as plt"
   ]
  },
  {
   "cell_type": "markdown",
   "id": "889e9da3",
   "metadata": {},
   "source": [
    "1. Постройте график зависимости весов всех признаков от lambda в самописной L2-регуляризации (на данных про ЕГЭ). Сделайте вывод"
   ]
  },
  {
   "cell_type": "markdown",
   "id": "5a9aebb4",
   "metadata": {},
   "source": [
    "__Задача:__ предсказание баллов ЕГЭ ученика"
   ]
  },
  {
   "cell_type": "code",
   "execution_count": 2,
   "id": "9956bd0b",
   "metadata": {},
   "outputs": [],
   "source": [
    "X = np.array([[   1,    1,  500,    1],\n",
    "              [   1,    1,  700,    1],\n",
    "              [   1,    2,  750,    2],\n",
    "              [   1,    5,  600,    1],\n",
    "              [   1,    3, 1450,    2],\n",
    "              [   1,    0,  800,    1],\n",
    "              [   1,    5, 1500,    3],\n",
    "              [   1,   10, 2000,    3],\n",
    "              [   1,    1,  450,    1],\n",
    "              [   1,    2, 1000,    2]])"
   ]
  },
  {
   "cell_type": "code",
   "execution_count": 3,
   "id": "f36ac6b6",
   "metadata": {},
   "outputs": [],
   "source": [
    "y = [45, 55, 50, 55, 60, 35, 75, 80, 50, 60]"
   ]
  },
  {
   "cell_type": "code",
   "execution_count": 58,
   "id": "4553c8fa",
   "metadata": {},
   "outputs": [],
   "source": [
    "def calc_mse(y, y_pred):\n",
    "    err = np.mean((y - y_pred)**2)\n",
    "    return err"
   ]
  },
  {
   "cell_type": "code",
   "execution_count": 59,
   "id": "cc0c29ed",
   "metadata": {},
   "outputs": [],
   "source": [
    "def eval_model_reg2(X, y, iterations, alpha=1e-4, lambda_=1e-8):\n",
    "    np.random.seed(42)\n",
    "    W = np.random.randn(X.shape[1])\n",
    "    n = X.shape[0]\n",
    "    for i in range(1, iterations+1):\n",
    "        y_pred = np.dot(X, W)\n",
    "        err = calc_mse(y, y_pred)\n",
    "        W -= alpha * (1/n * 2 * np.dot(X.T, (y_pred - y)) + lambda_ * W) \n",
    "#         if i % (iterations / 10) == 0:\n",
    "#             print(i, W, err)\n",
    "    return W"
   ]
  },
  {
   "cell_type": "code",
   "execution_count": 60,
   "id": "743cd452",
   "metadata": {},
   "outputs": [],
   "source": [
    "def calc_std_fit(x):\n",
    "    res = (x - x.mean()) / x.std()\n",
    "    return res"
   ]
  },
  {
   "cell_type": "code",
   "execution_count": 61,
   "id": "ed5b84d1",
   "metadata": {},
   "outputs": [
    {
     "name": "stdout",
     "output_type": "stream",
     "text": [
      "[-0.57735027 -0.57735027  1.73205081 -0.57735027]\n",
      "[-0.57735027 -0.57735027  1.73205081 -0.57735027]\n",
      "[-0.57940718 -0.57632113  1.73204943 -0.57632113]\n",
      "[-0.58249071 -0.5670349   1.73201633 -0.58249071]\n",
      "[-0.57894479 -0.57575501  1.73204971 -0.5773499 ]\n",
      "[-0.57638682 -0.57927597  1.7320496  -0.57638682]\n",
      "[-0.58043426 -0.57426353  1.73204669 -0.5773489 ]\n",
      "[-0.58158972 -0.57117319  1.73203785 -0.57927494]\n",
      "[-0.57735027 -0.57735027  1.73205081 -0.57735027]\n",
      "[-0.57889218 -0.57657893  1.73205004 -0.57657893]\n"
     ]
    }
   ],
   "source": [
    "X_st = X.copy().astype(np.float64)\n",
    "\n",
    "for i in range(len(X_st)):\n",
    "    X_st[i] = calc_std_fit(X_st[i])\n",
    "    print(X_st[i])"
   ]
  },
  {
   "cell_type": "code",
   "execution_count": 62,
   "id": "471b51ca",
   "metadata": {},
   "outputs": [],
   "source": [
    "W = eval_model_reg2(X_st, y, iterations=5000, alpha=1e-2, lambda_=1e-4)"
   ]
  },
  {
   "cell_type": "code",
   "execution_count": 63,
   "id": "0abd23bf",
   "metadata": {},
   "outputs": [
    {
     "data": {
      "text/plain": [
       "array([-9.34768118, -5.96638327, 25.0914415 , -7.26082309])"
      ]
     },
     "execution_count": 63,
     "metadata": {},
     "output_type": "execute_result"
    }
   ],
   "source": [
    "W"
   ]
  },
  {
   "cell_type": "code",
   "execution_count": 67,
   "id": "dba56ddd",
   "metadata": {},
   "outputs": [
    {
     "data": {
      "text/plain": [
       "array([1.000e-08, 1.020e-06, 2.030e-06, 3.040e-06, 4.050e-06, 5.060e-06,\n",
       "       6.070e-06, 7.080e-06, 8.090e-06, 9.100e-06, 1.011e-05, 1.112e-05,\n",
       "       1.213e-05, 1.314e-05, 1.415e-05, 1.516e-05, 1.617e-05, 1.718e-05,\n",
       "       1.819e-05, 1.920e-05, 2.021e-05, 2.122e-05, 2.223e-05, 2.324e-05,\n",
       "       2.425e-05, 2.526e-05, 2.627e-05, 2.728e-05, 2.829e-05, 2.930e-05,\n",
       "       3.031e-05, 3.132e-05, 3.233e-05, 3.334e-05, 3.435e-05, 3.536e-05,\n",
       "       3.637e-05, 3.738e-05, 3.839e-05, 3.940e-05, 4.041e-05, 4.142e-05,\n",
       "       4.243e-05, 4.344e-05, 4.445e-05, 4.546e-05, 4.647e-05, 4.748e-05,\n",
       "       4.849e-05, 4.950e-05, 5.051e-05, 5.152e-05, 5.253e-05, 5.354e-05,\n",
       "       5.455e-05, 5.556e-05, 5.657e-05, 5.758e-05, 5.859e-05, 5.960e-05,\n",
       "       6.061e-05, 6.162e-05, 6.263e-05, 6.364e-05, 6.465e-05, 6.566e-05,\n",
       "       6.667e-05, 6.768e-05, 6.869e-05, 6.970e-05, 7.071e-05, 7.172e-05,\n",
       "       7.273e-05, 7.374e-05, 7.475e-05, 7.576e-05, 7.677e-05, 7.778e-05,\n",
       "       7.879e-05, 7.980e-05, 8.081e-05, 8.182e-05, 8.283e-05, 8.384e-05,\n",
       "       8.485e-05, 8.586e-05, 8.687e-05, 8.788e-05, 8.889e-05, 8.990e-05,\n",
       "       9.091e-05, 9.192e-05, 9.293e-05, 9.394e-05, 9.495e-05, 9.596e-05,\n",
       "       9.697e-05, 9.798e-05, 9.899e-05, 1.000e-04])"
      ]
     },
     "execution_count": 67,
     "metadata": {},
     "output_type": "execute_result"
    }
   ],
   "source": [
    "lambda_list = np.linspace(1e-8, 1e-4, 100)\n",
    "lambda_list"
   ]
  },
  {
   "cell_type": "code",
   "execution_count": 77,
   "id": "4d1165b2",
   "metadata": {},
   "outputs": [],
   "source": [
    "W_list_1 = []\n",
    "W_list_2 = []\n",
    "W_list_3 = []\n",
    "W_list_4 = []\n",
    "\n",
    "for lmbd in lambda_list:\n",
    "    W = eval_model_reg2(X_st, y, iterations=5000, alpha=1e-2, lambda_=lmbd)\n",
    "    W_list_1.append(W[0])\n",
    "    W_list_2.append(W[1])\n",
    "    W_list_3.append(W[2])\n",
    "    W_list_4.append(W[3])"
   ]
  },
  {
   "cell_type": "code",
   "execution_count": 78,
   "id": "8084f8a1",
   "metadata": {},
   "outputs": [
    {
     "data": {
      "text/plain": [
       "100"
      ]
     },
     "execution_count": 78,
     "metadata": {},
     "output_type": "execute_result"
    }
   ],
   "source": [
    "len(lambda_list)"
   ]
  },
  {
   "cell_type": "code",
   "execution_count": 84,
   "id": "b9f8cac7",
   "metadata": {},
   "outputs": [
    {
     "data": {
      "image/png": "[encoded data removed]",
      "text/plain": [
       "<Figure size 432x288 with 1 Axes>"
      ]
     },
     "metadata": {
      "needs_background": "light"
     },
     "output_type": "display_data"
    }
   ],
   "source": [
    "# plt.scatter(W_list_1, lambda_list, c='r')\n",
    "# plt.scatter(W_list_2, lambda_list, c='g')\n",
    "# plt.scatter(W_list_3, lambda_list, c='b')\n",
    "plt.scatter(lambda_list, W_list_4, c='y')\n",
    "plt.show()"
   ]
  },
  {
   "cell_type": "code",
   "execution_count": 85,
   "id": "e23bbc53",
   "metadata": {},
   "outputs": [
    {
     "data": {
      "image/png": "[encoded data removed]",
      "text/plain": [
       "<Figure size 432x288 with 1 Axes>"
      ]
     },
     "metadata": {
      "needs_background": "light"
     },
     "output_type": "display_data"
    }
   ],
   "source": [
    "plt.scatter(lambda_list, W_list_3, c='b')\n",
    "plt.show()"
   ]
  },
  {
   "cell_type": "code",
   "execution_count": 86,
   "id": "0d41869a",
   "metadata": {},
   "outputs": [
    {
     "data": {
      "text/plain": [
       "<matplotlib.collections.PathCollection at 0x1d3ba39c1c0>"
      ]
     },
     "execution_count": 86,
     "metadata": {},
     "output_type": "execute_result"
    },
    {
     "data": {
      "image/png": "[encoded data removed]",
      "text/plain": [
       "<Figure size 432x288 with 1 Axes>"
      ]
     },
     "metadata": {
      "needs_background": "light"
     },
     "output_type": "display_data"
    }
   ],
   "source": [
    "plt.scatter(lambda_list, W_list_2, c='g')\n"
   ]
  },
  {
   "cell_type": "markdown",
   "id": "3e525944",
   "metadata": {},
   "source": [
    "2. Напишите функцию наподобие gradient_descent_reg_l2, но для применения L1-регуляризации."
   ]
  },
  {
   "cell_type": "markdown",
   "id": "3e6d60ee",
   "metadata": {},
   "source": [
    "$$Q(w, X) + \\lambda |w| \\rightarrow \\underset{w}{\\text{min}}.$$\n"
   ]
  },
  {
   "cell_type": "code",
   "execution_count": 96,
   "id": "20b77185",
   "metadata": {},
   "outputs": [],
   "source": [
    "def gradient_descent_reg_l1(X, y, iterations, alpha=1e-4, lambda_=1e-8):\n",
    "    W = np.random.randn(X.shape[1])\n",
    "    n = X.shape[0]\n",
    "    \n",
    "    for i in range(0, iterations):\n",
    "        y_pred = np.dot(X, W)\n",
    "        err = calc_mse(y, y_pred)\n",
    "        \n",
    "        dQ = 2/n * X.T @ (y_pred - y) # градиент функции ошибки\n",
    "        # градиент регуляризации\n",
    "        dReg = lambda_*np.sign(W)\n",
    "        \n",
    "        W -= alpha * (dQ + dReg)\n",
    "        \n",
    "        if i % (iterations / 10) == 0:\n",
    "            print(f'Iter: {i}, weights: {W}, error {err}')\n",
    "    \n",
    "    print(f'Final MSE: {calc_mse(y, np.dot(X, W))}')\n",
    "    return W"
   ]
  },
  {
   "cell_type": "code",
   "execution_count": 97,
   "id": "82498868",
   "metadata": {},
   "outputs": [
    {
     "name": "stdout",
     "output_type": "stream",
     "text": [
      "Iter: 0, weights: [-1.13074635 -0.11360985  1.51367117 -1.12537675], error 3417.6268979101683\n",
      "Iter: 500, weights: [-8.8987739  -7.43521505 24.24997329 -8.77204603], error 160.18636190483267\n",
      "Iter: 1000, weights: [-9.06596    -7.20558648 24.2496316  -8.83414671], error 160.1694544796257\n",
      "Iter: 1500, weights: [-9.23312442 -6.97599864 24.24928997 -8.8962284 ], error 160.1525527172285\n",
      "Iter: 2000, weights: [-9.40026716 -6.74645153 24.2489484  -8.9582911 ], error 160.13565661564922\n",
      "Iter: 2500, weights: [-9.56738822 -6.51694514 24.24860688 -9.02033481], error 160.118766172897\n",
      "Iter: 3000, weights: [-9.7344876  -6.28747946 24.24826542 -9.08235955], error 160.10188138698155\n",
      "Iter: 3500, weights: [-9.90156531 -6.05805449 24.24792402 -9.14436531], error 160.08500225591325\n",
      "Iter: 4000, weights: [-10.06862136  -5.82867021  24.24758267  -9.2063521 ], error 160.06812877770315\n",
      "Iter: 4500, weights: [-10.23565574  -5.59932662  24.24724138  -9.26831991], error 160.0512609503631\n",
      "Final MSE: 160.03439877190567\n"
     ]
    }
   ],
   "source": [
    "W_L1 = gradient_descent_reg_l1(X_st, y, iterations=5000, alpha=1e-2, lambda_=1e-8)"
   ]
  },
  {
   "cell_type": "markdown",
   "id": "5cad89fd",
   "metadata": {},
   "source": [
    "3. *Можно ли к одному и тому же признаку применить сразу и нормализацию, и стандартизацию?"
   ]
  },
  {
   "cell_type": "code",
   "execution_count": null,
   "id": "a8ec24f4",
   "metadata": {},
   "outputs": [],
   "source": [
    "да"
   ]
  },
  {
   "cell_type": "markdown",
   "id": "d4c1331b",
   "metadata": {},
   "source": [
    "4. *Сгенерируйте датасет при помощи <code>sklearn.datasets.make_regression</code> и обучите линейную модель при помощи градиентного и стохастического градиентного спуска. Нанесите среднеквадратичную ошибку для обоих методов на один график, сделайте выводы о разнице скорости сходимости каждого из методов."
   ]
  },
  {
   "cell_type": "code",
   "execution_count": 88,
   "id": "98d3ff25",
   "metadata": {},
   "outputs": [],
   "source": [
    "from sklearn.datasets import make_regression"
   ]
  },
  {
   "cell_type": "code",
   "execution_count": null,
   "id": "494f6e71",
   "metadata": {},
   "outputs": [],
   "source": []
  }
 ],
 "metadata": {
  "kernelspec": {
   "display_name": "Python 3 (ipykernel)",
   "language": "python",
   "name": "python3"
  },
  "language_info": {
   "codemirror_mode": {
    "name": "ipython",
    "version": 3
   },
   "file_extension": ".py",
   "mimetype": "text/x-python",
   "name": "python",
   "nbconvert_exporter": "python",
   "pygments_lexer": "ipython3",
   "version": "3.9.7"
  }
 },
 "nbformat": 4,
 "nbformat_minor": 5
}
