{
 "cells": [
  {
   "cell_type": "markdown",
   "id": "d54ed885",
   "metadata": {},
   "source": [
    "**Алгоритмы анализа данных**\n",
    "\n",
    "**Урок 3. Классификация. Логистическая регрессия**\n",
    "\n",
    "Домашнее задание №3."
   ]
  },
  {
   "cell_type": "code",
   "execution_count": 110,
   "id": "a0a45b63",
   "metadata": {},
   "outputs": [],
   "source": [
    "import numpy as np\n",
    "import matplotlib.pyplot as plt\n",
    "from matplotlib import cm"
   ]
  },
  {
   "cell_type": "code",
   "execution_count": 2,
   "id": "3b5466a3",
   "metadata": {},
   "outputs": [],
   "source": [
    "X = np.array([ [   1,    1,  500,    1],\n",
    "               [   1,    1,  700,    1],\n",
    "               [   1,    2,  750,    2],\n",
    "               [   1,    5,  600,    1],\n",
    "               [   1,    3, 1450,    2],\n",
    "               [   1,    0,  800,    1],\n",
    "               [   1,    5, 1500,    3],\n",
    "               [   1,   10, 2000,    3],\n",
    "               [   1,    1,  450,    1],\n",
    "               [   1,    2, 1000,    2]], dtype=np.float64)\n",
    "\n",
    "y = np.array([0, 0, 1, 0, 1, 0, 1, 0, 1, 1], dtype=np.float64)"
   ]
  },
  {
   "cell_type": "code",
   "execution_count": 3,
   "id": "cfdeceea",
   "metadata": {},
   "outputs": [
    {
     "data": {
      "text/plain": [
       "array([[1.00e+00, 1.00e+00, 5.00e+02, 1.00e+00],\n",
       "       [1.00e+00, 1.00e+00, 7.00e+02, 1.00e+00],\n",
       "       [1.00e+00, 2.00e+00, 7.50e+02, 2.00e+00],\n",
       "       [1.00e+00, 5.00e+00, 6.00e+02, 1.00e+00],\n",
       "       [1.00e+00, 3.00e+00, 1.45e+03, 2.00e+00],\n",
       "       [1.00e+00, 0.00e+00, 8.00e+02, 1.00e+00],\n",
       "       [1.00e+00, 5.00e+00, 1.50e+03, 3.00e+00],\n",
       "       [1.00e+00, 1.00e+01, 2.00e+03, 3.00e+00],\n",
       "       [1.00e+00, 1.00e+00, 4.50e+02, 1.00e+00],\n",
       "       [1.00e+00, 2.00e+00, 1.00e+03, 2.00e+00]])"
      ]
     },
     "execution_count": 3,
     "metadata": {},
     "output_type": "execute_result"
    }
   ],
   "source": [
    "X"
   ]
  },
  {
   "cell_type": "code",
   "execution_count": 4,
   "id": "b82617f6",
   "metadata": {},
   "outputs": [
    {
     "data": {
      "text/plain": [
       "array([0., 0., 1., 0., 1., 0., 1., 0., 1., 1.])"
      ]
     },
     "execution_count": 4,
     "metadata": {},
     "output_type": "execute_result"
    }
   ],
   "source": [
    "y"
   ]
  },
  {
   "cell_type": "code",
   "execution_count": 5,
   "id": "f1e274d7",
   "metadata": {},
   "outputs": [],
   "source": [
    "def standard_scale(x):\n",
    "    res = (x - x.mean()) / x.std()\n",
    "    return res"
   ]
  },
  {
   "cell_type": "code",
   "execution_count": 6,
   "id": "4df7b2aa",
   "metadata": {},
   "outputs": [],
   "source": [
    "X_st = X.copy()\n",
    "X_st[:, 2] = standard_scale(X[:, 2])"
   ]
  },
  {
   "cell_type": "code",
   "execution_count": 7,
   "id": "48f23cc8",
   "metadata": {},
   "outputs": [
    {
     "data": {
      "text/plain": [
       "array([[ 1.        ,  1.        , -0.97958969,  1.        ],\n",
       "       [ 1.        ,  1.        , -0.56713087,  1.        ],\n",
       "       [ 1.        ,  2.        , -0.46401617,  2.        ],\n",
       "       [ 1.        ,  5.        , -0.77336028,  1.        ],\n",
       "       [ 1.        ,  3.        ,  0.97958969,  2.        ],\n",
       "       [ 1.        ,  0.        , -0.36090146,  1.        ],\n",
       "       [ 1.        ,  5.        ,  1.08270439,  3.        ],\n",
       "       [ 1.        , 10.        ,  2.11385144,  3.        ],\n",
       "       [ 1.        ,  1.        , -1.08270439,  1.        ],\n",
       "       [ 1.        ,  2.        ,  0.05155735,  2.        ]])"
      ]
     },
     "execution_count": 7,
     "metadata": {},
     "output_type": "execute_result"
    }
   ],
   "source": [
    "X_st"
   ]
  },
  {
   "cell_type": "code",
   "execution_count": 40,
   "id": "7b4a7e01",
   "metadata": {},
   "outputs": [],
   "source": [
    "def calc_logloss(y, y_pred):\n",
    "#     print(y_pred)\n",
    "    err = - np.mean(y * np.log(y_pred) + (1.0 - y) * np.log(1.0 - y_pred))\n",
    "    return err"
   ]
  },
  {
   "cell_type": "code",
   "execution_count": 190,
   "id": "aa4845a4",
   "metadata": {},
   "outputs": [
    {
     "data": {
      "text/plain": [
       "0.164252033486018"
      ]
     },
     "execution_count": 190,
     "metadata": {},
     "output_type": "execute_result"
    }
   ],
   "source": [
    "# Пример применения\n",
    "y1 = np.array([1, 0])\n",
    "y_pred1 = np.array([0.8, 0.1])\n",
    "calc_logloss(y1, y_pred1)"
   ]
  },
  {
   "cell_type": "code",
   "execution_count": 191,
   "id": "37b186f7",
   "metadata": {},
   "outputs": [
    {
     "name": "stdout",
     "output_type": "stream",
     "text": [
      "-\n"
     ]
    },
    {
     "data": {
      "text/plain": [
       "0.11157227565735486"
      ]
     },
     "execution_count": 191,
     "metadata": {},
     "output_type": "execute_result"
    }
   ],
   "source": [
    "# Плохой пример применения\n",
    "y1 = np.array([1, 0])\n",
    "y_pred1 = np.array([1, 0.2])\n",
    "calc_logloss(y1, y_pred1)"
   ]
  },
  {
   "cell_type": "code",
   "execution_count": 168,
   "id": "60963404",
   "metadata": {},
   "outputs": [],
   "source": [
    "def sigmoid(z):\n",
    "    res = 1 / (1 + np.exp(-z))\n",
    "    return res"
   ]
  },
  {
   "cell_type": "code",
   "execution_count": 44,
   "id": "af76899c",
   "metadata": {},
   "outputs": [],
   "source": [
    "z = np.linspace(-10, 10, 101)"
   ]
  },
  {
   "cell_type": "code",
   "execution_count": 45,
   "id": "041f84ef",
   "metadata": {},
   "outputs": [],
   "source": [
    "probabilities = sigmoid(z)"
   ]
  },
  {
   "cell_type": "code",
   "execution_count": 46,
   "id": "ee13c7c4",
   "metadata": {},
   "outputs": [
    {
     "data": {
      "image/png": "[encoded data removed]",
      "text/plain": [
       "<Figure size 432x288 with 1 Axes>"
      ]
     },
     "metadata": {
      "needs_background": "light"
     },
     "output_type": "display_data"
    }
   ],
   "source": [
    "plt.plot(z, probabilities)\n",
    "plt.show()"
   ]
  },
  {
   "cell_type": "code",
   "execution_count": 47,
   "id": "999ee897",
   "metadata": {},
   "outputs": [],
   "source": [
    "def eval_model(X, y, iterations, eta=1e-4):\n",
    "    np.random.seed(42)\n",
    "    W = np.random.randn(X.shape[1])\n",
    "    n = X.shape[0]\n",
    "    \n",
    "    for i in range(iterations):\n",
    "        z = np.dot(X, W)\n",
    "        y_pred = sigmoid(z)\n",
    "        err = calc_logloss(y, y_pred)\n",
    "        \n",
    "        dQ = 1/n * X.T @ (y_pred - y)\n",
    "        W -= eta * dQ\n",
    "#         if i % (iterations / 10) == 0:\n",
    "#             print(i, W, err)\n",
    "    return W"
   ]
  },
  {
   "cell_type": "code",
   "execution_count": 48,
   "id": "ba1d4fd5",
   "metadata": {},
   "outputs": [],
   "source": [
    "W = eval_model(X_st, y, iterations=500, eta=1e-4)"
   ]
  },
  {
   "cell_type": "markdown",
   "id": "bc79e455",
   "metadata": {},
   "source": [
    "1. *Измените функцию calc_logloss так, чтобы нули по возможности не попадали в np.log."
   ]
  },
  {
   "cell_type": "code",
   "execution_count": 189,
   "id": "4783f931",
   "metadata": {},
   "outputs": [],
   "source": [
    "def calc_logloss(y, y_pred):\n",
    "    tmp = y_pred.copy()\n",
    "    for i in range(len(tmp)):\n",
    "        if tmp[i] == 1.:\n",
    "            tmp[i] -= 1e-6\n",
    "            print('-')\n",
    "        elif tmp[i] == 0:\n",
    "            tmp[i] += 1e-6\n",
    "            print('+')\n",
    "        else:\n",
    "            pass\n",
    "           \n",
    "    err = - np.mean(y * np.log(tmp) + (1.0 - y) * np.log(1.0 - tmp))\n",
    "    return err"
   ]
  },
  {
   "cell_type": "markdown",
   "id": "68d0d44a",
   "metadata": {},
   "source": [
    "2. Подберите аргументы функции eval_model для логистической регрессии таким образом, чтобы log loss был минимальным.\n"
   ]
  },
  {
   "cell_type": "code",
   "execution_count": 126,
   "id": "72a67358",
   "metadata": {},
   "outputs": [
    {
     "name": "stdout",
     "output_type": "stream",
     "text": [
      "Logloss_min = 0.37885728931566326, eta = 0.01, iteration = 9500\n"
     ]
    }
   ],
   "source": [
    "iteration_list = [i for i in range(500, 10000, 500)]\n",
    "eta_list =  [1e-2, 1e-3, 1e-4, 1e-5, 1e-6]\n",
    "\n",
    "logloss_list = {}\n",
    "\n",
    "logloss_min = np.inf\n",
    "xs = []\n",
    "ys = []\n",
    "zs = []\n",
    "\n",
    "\n",
    "for iteration in iteration_list:\n",
    "    for eta in eta_list:\n",
    "#         print(f'{iteration} - {eta}')\n",
    "        W = eval_model(X_st, y, iterations=iteration, eta=eta)\n",
    "        y_pred = sigmoid(np.dot(X_st, W))\n",
    "        logloss = calc_logloss(y, y_pred)\n",
    "        if logloss < logloss_min:\n",
    "            logloss_min = logloss\n",
    "#         print(logloss)\n",
    "        \n",
    "        xs.append(iteration)\n",
    "        ys.append(eta)\n",
    "        zs.append(logloss)\n",
    "        \n",
    "        logloss_list[logloss] = (iteration, eta)\n",
    "        \n",
    "print(f'Logloss_min = {logloss_min}, eta = {logloss_list[logloss_min][1]}, iteration = {logloss_list[logloss_min][0]}')"
   ]
  },
  {
   "cell_type": "code",
   "execution_count": 127,
   "id": "d8eaec9e",
   "metadata": {},
   "outputs": [
    {
     "data": {
      "image/png": "[encoded data removed]",
      "text/plain": [
       "<Figure size 1440x720 with 1 Axes>"
      ]
     },
     "metadata": {
      "needs_background": "light"
     },
     "output_type": "display_data"
    }
   ],
   "source": [
    "fig = plt.figure(figsize=(20,10))\n",
    "ax = fig.add_subplot(projection='3d')\n",
    "ax.plot_trisurf(np.array(xs), np.array(ys), np.array(zs), linewidth=0.02, antialiased=True)\n",
    "plt.show()"
   ]
  },
  {
   "cell_type": "markdown",
   "id": "b57034c6",
   "metadata": {},
   "source": [
    "3. Создайте функцию calc_pred_proba, возвращающую предсказанную вероятность класса 1 (на вход подаются W, который уже посчитан функцией eval_model и X, на выходе - массив y_pred_proba).\n"
   ]
  },
  {
   "cell_type": "code",
   "execution_count": 133,
   "id": "59c5bc35",
   "metadata": {},
   "outputs": [],
   "source": [
    "def calc_pred_proba(W, X) -> list:\n",
    "    y_pred_proba = []\n",
    "    \n",
    "    z = np.dot(X, W)\n",
    "    y_pred = sigmoid(z)\n",
    "    \n",
    "    for y in y_pred:\n",
    "        if y > 0.5:\n",
    "            y_pred_proba.append(y)\n",
    "                    \n",
    "    return y_pred_proba"
   ]
  },
  {
   "cell_type": "code",
   "execution_count": 143,
   "id": "e862d0b2",
   "metadata": {},
   "outputs": [
    {
     "data": {
      "text/plain": [
       "[0.8359664280893737,\n",
       " 0.7895452632880466,\n",
       " 0.6213264278763488,\n",
       " 0.9273419213230768,\n",
       " 0.864842553607293]"
      ]
     },
     "execution_count": 143,
     "metadata": {},
     "output_type": "execute_result"
    }
   ],
   "source": [
    "W = eval_model(X_st, y, iterations=9500, eta=1e-2)\n",
    "y_pred_proba = calc_pred_proba(W, X_st)\n",
    "y_pred_proba"
   ]
  },
  {
   "cell_type": "markdown",
   "id": "ed186940",
   "metadata": {},
   "source": [
    "4. Создайте функцию calc_pred, возвращающую предсказанный класс (на вход подаются W, который уже посчитан функцией eval_model и X, на выходе - массив y_pred)."
   ]
  },
  {
   "cell_type": "code",
   "execution_count": 144,
   "id": "805736f6",
   "metadata": {},
   "outputs": [],
   "source": [
    "def calc_pred(W, X) -> list:\n",
    "    result = []\n",
    "    \n",
    "    z = np.dot(X, W)\n",
    "    y_pred = sigmoid(z)\n",
    "    \n",
    "    for y in y_pred:\n",
    "        if y > 0.5:\n",
    "            result.append(1)\n",
    "        else:\n",
    "            result.append(0)\n",
    "                    \n",
    "    return result\n"
   ]
  },
  {
   "cell_type": "code",
   "execution_count": 145,
   "id": "5ea41bd6",
   "metadata": {},
   "outputs": [
    {
     "data": {
      "text/plain": [
       "[0, 0, 1, 0, 1, 1, 1, 0, 0, 1]"
      ]
     },
     "execution_count": 145,
     "metadata": {},
     "output_type": "execute_result"
    }
   ],
   "source": [
    "W = eval_model(X_st, y, iterations=9500, eta=1e-2)\n",
    "y_pred = calc_pred(W, X_st)\n",
    "y_pred"
   ]
  },
  {
   "cell_type": "markdown",
   "id": "f7745633",
   "metadata": {},
   "source": [
    "5. *Реализуйте функции для подсчета Accuracy, матрицы ошибок, точности и полноты, а также F1 score."
   ]
  },
  {
   "cell_type": "code",
   "execution_count": 149,
   "id": "6c19a750",
   "metadata": {},
   "outputs": [],
   "source": [
    "def calc_accuracy(y, y_pred) -> float:\n",
    "    result = 0\n",
    "    \n",
    "    \n",
    "    for i in range(len(y)):\n",
    "        if y[i] == y_pred[i]:\n",
    "            result += 1\n",
    "            \n",
    "    result /= len(y)\n",
    "    \n",
    "    return result"
   ]
  },
  {
   "cell_type": "code",
   "execution_count": 151,
   "id": "c4ca1006",
   "metadata": {},
   "outputs": [
    {
     "name": "stdout",
     "output_type": "stream",
     "text": [
      "[0. 0. 1. 0. 1. 0. 1. 0. 1. 1.]\n",
      "[0, 0, 1, 0, 1, 1, 1, 0, 0, 1]\n",
      "0.8\n"
     ]
    }
   ],
   "source": [
    "print(y)\n",
    "print(y_pred)\n",
    "print(calc_accuracy(y, y_pred))"
   ]
  },
  {
   "cell_type": "code",
   "execution_count": 158,
   "id": "3d1b544b",
   "metadata": {},
   "outputs": [],
   "source": [
    "def calc_recall(y, y_pred) -> float:\n",
    "    result = 0\n",
    "    num = 0 \n",
    "    \n",
    "    for i in range(len(y)):\n",
    "        if y[i] == 1:\n",
    "            num += 1\n",
    "        if y_pred[i] == 1 and y[i] == 1:\n",
    "            result += 1\n",
    "    \n",
    "    result /= num\n",
    "    \n",
    "    return result    "
   ]
  },
  {
   "cell_type": "code",
   "execution_count": 159,
   "id": "62ccc0ca",
   "metadata": {},
   "outputs": [
    {
     "name": "stdout",
     "output_type": "stream",
     "text": [
      "[0. 0. 1. 0. 1. 0. 1. 0. 1. 1.]\n",
      "[0, 0, 1, 0, 1, 1, 1, 0, 0, 1]\n",
      "0.8\n"
     ]
    }
   ],
   "source": [
    "print(y)\n",
    "print(y_pred)\n",
    "print(calc_recall(y, y_pred))"
   ]
  },
  {
   "cell_type": "code",
   "execution_count": 160,
   "id": "1b290135",
   "metadata": {},
   "outputs": [],
   "source": [
    "def calc_precision(y, y_pred) -> float:\n",
    "    result = 0\n",
    "    num = 0 \n",
    "    \n",
    "    for i in range(len(y)):\n",
    "        if y_pred[i] == 1 and y[i] == 1:\n",
    "            result += 1\n",
    "        \n",
    "        if y_pred[i] == 1:\n",
    "            num += 1\n",
    "            \n",
    "    result /= num    \n",
    "    \n",
    "    return result    "
   ]
  },
  {
   "cell_type": "code",
   "execution_count": 161,
   "id": "dd6b172b",
   "metadata": {},
   "outputs": [
    {
     "name": "stdout",
     "output_type": "stream",
     "text": [
      "[0. 0. 1. 0. 1. 0. 1. 0. 1. 1.]\n",
      "[0, 0, 1, 0, 1, 1, 1, 0, 0, 1]\n",
      "0.8\n"
     ]
    }
   ],
   "source": [
    "print(y)\n",
    "print(y_pred)\n",
    "print(calc_precision(y, y_pred))"
   ]
  },
  {
   "cell_type": "code",
   "execution_count": 165,
   "id": "7bef04a6",
   "metadata": {},
   "outputs": [],
   "source": [
    "def calc_F(betta, recall, precision) -> float:\n",
    "    \n",
    "    return (1+betta**2)*(precision*recall)/(betta**2*precision + recall) "
   ]
  },
  {
   "cell_type": "code",
   "execution_count": 166,
   "id": "a881c41a",
   "metadata": {},
   "outputs": [
    {
     "data": {
      "text/plain": [
       "0.8000000000000002"
      ]
     },
     "execution_count": 166,
     "metadata": {},
     "output_type": "execute_result"
    }
   ],
   "source": [
    "precision = calc_precision(y, y_pred)\n",
    "recall = calc_recall(y, y_pred)\n",
    "F1 = calc_F(1, recall, precision)\n",
    "F1"
   ]
  },
  {
   "cell_type": "markdown",
   "id": "37e85985",
   "metadata": {},
   "source": [
    "6. Могла ли модель переобучиться? Почему?"
   ]
  },
  {
   "cell_type": "code",
   "execution_count": null,
   "id": "6ac2d25e",
   "metadata": {},
   "outputs": [],
   "source": []
  }
 ],
 "metadata": {
  "kernelspec": {
   "display_name": "Python 3 (ipykernel)",
   "language": "python",
   "name": "python3"
  },
  "language_info": {
   "codemirror_mode": {
    "name": "ipython",
    "version": 3
   },
   "file_extension": ".py",
   "mimetype": "text/x-python",
   "name": "python",
   "nbconvert_exporter": "python",
   "pygments_lexer": "ipython3",
   "version": "3.9.7"
  }
 },
 "nbformat": 4,
 "nbformat_minor": 5
}
