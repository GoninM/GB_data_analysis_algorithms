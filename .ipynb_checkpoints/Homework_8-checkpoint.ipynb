{
 "cells": [
  {
   "cell_type": "markdown",
   "id": "60d55e5c",
   "metadata": {},
   "source": [
    "**Алгоритмы анализа данных**\n",
    "\n",
    "**Урок 8. Снижение размерности данных**\n",
    "\n",
    "Домашнее задание №8."
   ]
  },
  {
   "cell_type": "markdown",
   "id": "98681311",
   "metadata": {},
   "source": [
    "1. Обучите любую модель классификации на датасете IRIS до применения PCA и после него. Сравните качество классификации по отложенной выборке.\n",
    "\n",
    "2. Напишите свою реализацию метода главных компонент посредством сингулярного разложения с использованием функции numpy.linalg.svd()."
   ]
  },
  {
   "cell_type": "code",
   "execution_count": 33,
   "id": "c1cf481e",
   "metadata": {},
   "outputs": [],
   "source": [
    "import numpy as np\n",
    "from sklearn import datasets\n",
    "from sklearn.linear_model import LogisticRegression\n",
    "from sklearn.model_selection import train_test_split\n",
    "from sklearn.decomposition import PCA\n",
    "import matplotlib.pyplot as plt"
   ]
  },
  {
   "cell_type": "code",
   "execution_count": 79,
   "id": "ab0200fd",
   "metadata": {},
   "outputs": [],
   "source": [
    "X, y = datasets.load_iris(return_X_y=True)"
   ]
  },
  {
   "cell_type": "code",
   "execution_count": 80,
   "id": "1328a5dd",
   "metadata": {},
   "outputs": [],
   "source": [
    "X_train, X_test, y_train, y_test = train_test_split(X, y, test_size=0.33, random_state=42)"
   ]
  },
  {
   "cell_type": "code",
   "execution_count": 81,
   "id": "509286a7",
   "metadata": {},
   "outputs": [],
   "source": [
    "clf = LogisticRegression(random_state=42).fit(X_test, y_test)"
   ]
  },
  {
   "cell_type": "code",
   "execution_count": 82,
   "id": "73e6d3f2",
   "metadata": {},
   "outputs": [
    {
     "data": {
      "text/plain": [
       "array([0, 0, 0, 0, 0, 0, 0, 0, 0, 0, 0, 0, 0, 0, 0, 0, 0, 0, 0, 0, 0, 0,\n",
       "       0, 0, 0, 0, 0, 0, 0, 0, 0, 0, 0, 0, 0, 0, 0, 0, 0, 0, 0, 0, 0, 0,\n",
       "       0, 0, 0, 0, 0, 0, 1, 1, 1, 1, 1, 1, 1, 1, 1, 1, 1, 1, 1, 1, 1, 1,\n",
       "       1, 1, 1, 1, 2, 1, 1, 1, 1, 1, 1, 2, 1, 1, 1, 1, 1, 2, 1, 1, 1, 1,\n",
       "       1, 1, 1, 1, 1, 1, 1, 1, 1, 1, 1, 1, 2, 2, 2, 2, 2, 2, 1, 2, 2, 2,\n",
       "       2, 2, 2, 2, 2, 2, 2, 2, 2, 1, 2, 2, 2, 2, 2, 2, 2, 2, 2, 2, 2, 2,\n",
       "       2, 2, 2, 2, 2, 2, 2, 2, 2, 2, 2, 2, 2, 2, 2, 2, 2, 2])"
      ]
     },
     "execution_count": 82,
     "metadata": {},
     "output_type": "execute_result"
    }
   ],
   "source": [
    "clf.predict(X)"
   ]
  },
  {
   "cell_type": "code",
   "execution_count": 83,
   "id": "9f9f7366",
   "metadata": {},
   "outputs": [
    {
     "data": {
      "text/plain": [
       "array([[1.63940405e-02, 7.68754222e-01, 2.14851738e-01],\n",
       "       [9.30888638e-01, 6.91012340e-02, 1.01276607e-05]])"
      ]
     },
     "execution_count": 83,
     "metadata": {},
     "output_type": "execute_result"
    }
   ],
   "source": [
    "clf.predict_proba(X_test[:2, :])"
   ]
  },
  {
   "cell_type": "code",
   "execution_count": 84,
   "id": "8b5048a6",
   "metadata": {},
   "outputs": [
    {
     "data": {
      "text/plain": [
       "0.95"
      ]
     },
     "execution_count": 84,
     "metadata": {},
     "output_type": "execute_result"
    }
   ],
   "source": [
    "clf.score(X_train, y_train)"
   ]
  },
  {
   "cell_type": "code",
   "execution_count": null,
   "id": "6a8dc512",
   "metadata": {},
   "outputs": [],
   "source": []
  },
  {
   "cell_type": "code",
   "execution_count": 85,
   "id": "745a3620",
   "metadata": {},
   "outputs": [],
   "source": [
    "pca = PCA(n_components=2)"
   ]
  },
  {
   "cell_type": "code",
   "execution_count": 86,
   "id": "06e521fa",
   "metadata": {},
   "outputs": [
    {
     "data": {
      "text/plain": [
       "PCA(n_components=2)"
      ]
     },
     "execution_count": 86,
     "metadata": {},
     "output_type": "execute_result"
    }
   ],
   "source": [
    "pca.fit(X)"
   ]
  },
  {
   "cell_type": "code",
   "execution_count": 87,
   "id": "bf82fc37",
   "metadata": {},
   "outputs": [
    {
     "name": "stdout",
     "output_type": "stream",
     "text": [
      "[0.92461872 0.05306648]\n"
     ]
    }
   ],
   "source": [
    "print(pca.explained_variance_ratio_)"
   ]
  },
  {
   "cell_type": "code",
   "execution_count": 88,
   "id": "5a27ef01",
   "metadata": {},
   "outputs": [
    {
     "name": "stdout",
     "output_type": "stream",
     "text": [
      "[25.09996044  6.01314738]\n"
     ]
    }
   ],
   "source": [
    "print(pca.singular_values_)"
   ]
  },
  {
   "cell_type": "code",
   "execution_count": 89,
   "id": "c36f17d8",
   "metadata": {},
   "outputs": [],
   "source": [
    "X_pca = pca.fit_transform(X)"
   ]
  },
  {
   "cell_type": "code",
   "execution_count": 90,
   "id": "53b262d6",
   "metadata": {},
   "outputs": [
    {
     "data": {
      "text/plain": [
       "(150, 4)"
      ]
     },
     "execution_count": 90,
     "metadata": {},
     "output_type": "execute_result"
    }
   ],
   "source": [
    "X.shape"
   ]
  },
  {
   "cell_type": "code",
   "execution_count": 91,
   "id": "903188d7",
   "metadata": {},
   "outputs": [
    {
     "data": {
      "text/plain": [
       "(150, 2)"
      ]
     },
     "execution_count": 91,
     "metadata": {},
     "output_type": "execute_result"
    }
   ],
   "source": [
    "X_pca.shape"
   ]
  },
  {
   "cell_type": "code",
   "execution_count": 92,
   "id": "5f9cbd5d",
   "metadata": {},
   "outputs": [],
   "source": [
    "X_train_pca, X_test_pca, y_train_pca, y_test_pca = train_test_split(X_pca, y, test_size=0.33, random_state=42)"
   ]
  },
  {
   "cell_type": "code",
   "execution_count": 93,
   "id": "9033cb0b",
   "metadata": {},
   "outputs": [],
   "source": [
    "clf_pca = LogisticRegression(random_state=42).fit(X_test_pca, y_test_pca)"
   ]
  },
  {
   "cell_type": "code",
   "execution_count": 94,
   "id": "ef84a2fc",
   "metadata": {},
   "outputs": [
    {
     "data": {
      "text/plain": [
       "array([1, 0, 2, 1, 1, 0, 1, 2, 1, 1, 2, 0, 0, 0, 0, 1, 2, 1, 1, 2, 0, 1,\n",
       "       0, 2, 2, 2, 2, 2, 0, 0, 0, 0, 1, 0, 0, 2, 1, 0, 0, 0, 2, 1, 1, 0,\n",
       "       0, 1, 2, 2, 1, 2])"
      ]
     },
     "execution_count": 94,
     "metadata": {},
     "output_type": "execute_result"
    }
   ],
   "source": [
    "clf_pca.predict(X_test_pca)"
   ]
  },
  {
   "cell_type": "code",
   "execution_count": 97,
   "id": "df959ce7",
   "metadata": {},
   "outputs": [
    {
     "data": {
      "text/plain": [
       "array([[1.78617332e-02, 7.06905230e-01, 2.75233037e-01],\n",
       "       [9.35582899e-01, 6.44103064e-02, 6.79474338e-06]])"
      ]
     },
     "execution_count": 97,
     "metadata": {},
     "output_type": "execute_result"
    }
   ],
   "source": [
    "clf_pca.predict_proba(X_test_pca[:2,:])"
   ]
  },
  {
   "cell_type": "code",
   "execution_count": 98,
   "id": "030aebf0",
   "metadata": {},
   "outputs": [
    {
     "data": {
      "text/plain": [
       "0.92"
      ]
     },
     "execution_count": 98,
     "metadata": {},
     "output_type": "execute_result"
    }
   ],
   "source": [
    "clf_pca.score(X_train_pca, y_train_pca)"
   ]
  },
  {
   "cell_type": "code",
   "execution_count": null,
   "id": "45b138c6",
   "metadata": {},
   "outputs": [],
   "source": []
  },
  {
   "cell_type": "code",
   "execution_count": null,
   "id": "c96ae435",
   "metadata": {},
   "outputs": [],
   "source": []
  },
  {
   "cell_type": "code",
   "execution_count": 122,
   "id": "8bf23e66",
   "metadata": {},
   "outputs": [],
   "source": [
    "def own_func_with_svd(X, dd):\n",
    "    xt = X.T\n",
    "    xt_x = xt.dot(X)\n",
    "    \n",
    "    svd = np.linalg.svd(xt_x)[0]\n",
    "    u = svd[0]\n",
    "    d = svd[1]\n",
    "    vt = svd[2]\n",
    "    \n",
    "    w = d\n",
    "    \n",
    "    z = X.dot(w) \n",
    "    return z\n",
    "    \n",
    "#     print(u)\n",
    "#     print(d)\n",
    "#     print(vt)\n",
    "#     print(z)"
   ]
  },
  {
   "cell_type": "code",
   "execution_count": 123,
   "id": "e2f95096",
   "metadata": {},
   "outputs": [
    {
     "data": {
      "text/plain": [
       "array([ -4.86083709,  -4.51144761,  -4.47725494,  -4.51962054,\n",
       "        -4.87750293,  -5.45958495,  -4.64784516,  -4.83567836,\n",
       "        -4.26673007,  -4.60192078,  -5.15173618,  -4.82718546,\n",
       "        -4.44171338,  -4.0490973 ,  -5.265221  ,  -5.71193439,\n",
       "        -5.18948763,  -4.8925627 ,  -5.48721075,  -5.12411038,\n",
       "        -5.12276149,  -5.10116154,  -4.45537113,  -5.04923801,\n",
       "        -5.02975845,  -4.68450489,  -4.9666539 ,  -4.96637004,\n",
       "        -4.84417126,  -4.67982794,  -4.6631621 ,  -5.05116404,\n",
       "        -5.26269114,  -5.39559271,  -4.63364639,  -4.52375646,\n",
       "        -4.94534723,  -4.8077687 ,  -4.25388019,  -4.87368697,\n",
       "        -4.78702975,  -3.94089326,  -4.36322909,  -5.08477957,\n",
       "        -5.42593332,  -4.5051646 ,  -5.15990911,  -4.50677066,\n",
       "        -5.11372756,  -4.71347958,  -8.0279877 ,  -7.69661294,\n",
       "        -8.10207891,  -6.46139246,  -7.58344809,  -7.14840361,\n",
       "        -7.88005305,  -5.72016807,  -7.61267995,  -6.53026569,\n",
       "        -5.67452755,  -7.19464796,  -6.50158428,  -7.5218868 ,\n",
       "        -6.55735045,  -7.65671441,  -7.28319511,  -6.76646363,\n",
       "        -7.07385121,  -6.47777444,  -7.80431967,  -6.96281642,\n",
       "        -7.5459805 ,  -7.40376114,  -7.33408972,  -7.56403134,\n",
       "        -7.800797  ,  -8.10236277,  -7.38055512,  -6.26863457,\n",
       "        -6.31756704,  -6.2183171 ,  -6.69486618,  -7.70807782,\n",
       "        -7.20717787,  -7.68565298,  -7.89101301,  -7.03555873,\n",
       "        -6.94964656,  -6.57074136,  -6.86378754,  -7.50903692,\n",
       "        -6.70771606,  -5.70350223,  -6.85314755,  -7.02345391,\n",
       "        -7.00050506,  -7.25807248,  -5.68001236,  -6.87830628,\n",
       "        -9.04339982,  -7.72723741,  -8.98901865,  -8.33252545,\n",
       "        -8.72516822,  -9.65173206,  -6.80721375,  -9.18528194,\n",
       "        -8.40091078,  -9.61702506,  -8.29839559,  -8.09033778,\n",
       "        -8.60489547,  -7.54408116,  -7.94053989,  -8.49061245,\n",
       "        -8.3956928 , -10.22638622,  -9.73706709,  -7.33545563,\n",
       "        -8.95075287,  -7.60257157,  -9.6161905 ,  -7.75050622,\n",
       "        -8.86595887,  -9.10872368,  -7.69964772,  -7.83851234,\n",
       "        -8.41103643,  -8.8008749 ,  -9.06529305, -10.03637924,\n",
       "        -8.44276204,  -7.84505252,  -7.96558244,  -9.41557023,\n",
       "        -8.79625134,  -8.41235863,  -7.73297939,  -8.63005421,\n",
       "        -8.78426246,  -8.49093242,  -7.72723741,  -9.04779291,\n",
       "        -8.99286129,  -8.42776507,  -7.74040726,  -8.25657102,\n",
       "        -8.59146845,  -7.89754377])"
      ]
     },
     "execution_count": 123,
     "metadata": {},
     "output_type": "execute_result"
    }
   ],
   "source": [
    "own_func_with_svd(X, 2)"
   ]
  },
  {
   "cell_type": "code",
   "execution_count": null,
   "id": "90d3b0fa",
   "metadata": {},
   "outputs": [],
   "source": []
  },
  {
   "cell_type": "code",
   "execution_count": null,
   "id": "c3064dc7",
   "metadata": {},
   "outputs": [],
   "source": []
  }
 ],
 "metadata": {
  "kernelspec": {
   "display_name": "Python 3 (ipykernel)",
   "language": "python",
   "name": "python3"
  },
  "language_info": {
   "codemirror_mode": {
    "name": "ipython",
    "version": 3
   },
   "file_extension": ".py",
   "mimetype": "text/x-python",
   "name": "python",
   "nbconvert_exporter": "python",
   "pygments_lexer": "ipython3",
   "version": "3.9.7"
  }
 },
 "nbformat": 4,
 "nbformat_minor": 5
}
