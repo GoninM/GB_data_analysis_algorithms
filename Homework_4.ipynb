{
 "cells": [
  {
   "cell_type": "markdown",
   "id": "5ed7dbf9",
   "metadata": {},
   "source": [
    "**Алгоритмы анализа данных**\n",
    "\n",
    "**Урок 4. Деревья решений**\n",
    "\n",
    "Домашнее задание №4."
   ]
  },
  {
   "cell_type": "markdown",
   "id": "d4117b0f",
   "metadata": {},
   "source": [
    "[1. В коде из методички реализуйте один или несколько из критериев останова (количество листьев, количество используемых признаков, глубина дерева и т.д.)](#task_1)\n"
   ]
  },
  {
   "cell_type": "markdown",
   "id": "f017c178",
   "metadata": {},
   "source": [
    "[2. *Реализуйте дерево для задачи регрессии. Возьмите за основу дерево, реализованное в методичке, заменив механизм предсказания в листе на взятие среднего значения по выборке, и критерий Джини на дисперсию значений.](#task_2)"
   ]
  },
  {
   "cell_type": "code",
   "execution_count": 25,
   "id": "c912bd7a",
   "metadata": {},
   "outputs": [],
   "source": [
    "import matplotlib.pyplot as plt\n",
    "import random\n",
    "\n",
    "from matplotlib.colors import ListedColormap\n",
    "from sklearn.datasets import make_classification, make_circles, make_regression\n",
    "from sklearn.tree import DecisionTreeClassifier, DecisionTreeRegressor, plot_tree\n",
    "from sklearn.metrics import accuracy_score\n",
    "\n",
    "import numpy as np\n",
    "import pandas as pd\n",
    "\n",
    "import warnings\n",
    "warnings.filterwarnings('ignore')"
   ]
  },
  {
   "cell_type": "code",
   "execution_count": 2,
   "id": "09a84c89",
   "metadata": {},
   "outputs": [],
   "source": [
    "# сгенерируем данные\n",
    "classification_data, classification_labels = make_classification(n_features=2, n_informative=2, \n",
    "                                                                 n_classes=2, n_redundant=0,\n",
    "                                                                 n_clusters_per_class=1, random_state=5)\n",
    "# classification_data, classification_labels = make_circles(n_samples=30, random_state=5)"
   ]
  },
  {
   "cell_type": "code",
   "execution_count": 3,
   "id": "c5f8f167",
   "metadata": {
    "scrolled": false
   },
   "outputs": [
    {
     "data": {
      "image/png": "[encoded data removed]",
      "text/plain": [
       "<Figure size 576x576 with 1 Axes>"
      ]
     },
     "metadata": {
      "needs_background": "light"
     },
     "output_type": "display_data"
    }
   ],
   "source": [
    "# визуализируем сгенерированные данные\n",
    "\n",
    "colors = ListedColormap(['red', 'blue'])\n",
    "light_colors = ListedColormap(['lightcoral', 'lightblue'])\n",
    "\n",
    "plt.figure(figsize=(8,8))\n",
    "plt.scatter(list(map(lambda x: x[0], classification_data)), list(map(lambda x: x[1], classification_data)), \n",
    "              c=classification_labels, cmap=colors);\n"
   ]
  },
  {
   "cell_type": "code",
   "execution_count": 6,
   "id": "c279f191",
   "metadata": {},
   "outputs": [],
   "source": [
    "# Реализуем класс узла\n",
    "class Node:\n",
    "    \n",
    "    def __init__(self, index, t, true_branch, false_branch):\n",
    "        self.index = index  # индекс признака, по которому ведется сравнение с порогом в этом узле\n",
    "        self.t = t  # значение порога\n",
    "        self.true_branch = true_branch  # поддерево, удовлетворяющее условию в узле\n",
    "        self.false_branch = false_branch  # поддерево, не удовлетворяющее условию в узле"
   ]
  },
  {
   "cell_type": "code",
   "execution_count": 7,
   "id": "7cd18fc7",
   "metadata": {},
   "outputs": [],
   "source": [
    "# И класс терминального узла (листа)\n",
    "\n",
    "class Leaf:\n",
    "    \n",
    "    def __init__(self, data, labels):\n",
    "        self.data = data\n",
    "        self.labels = labels\n",
    "        self.prediction = self.predict()\n",
    "        \n",
    "    def predict(self):\n",
    "        # подсчет количества объектов разных классов\n",
    "        classes = {}  # сформируем словарь \"класс: количество объектов\"\n",
    "        for label in self.labels:\n",
    "            if label not in classes:\n",
    "                classes[label] = 0\n",
    "            classes[label] += 1\n",
    "            \n",
    "        # найдем класс, количество объектов которого будет максимальным в этом листе и вернем его    \n",
    "        prediction = max(classes, key=classes.get)\n",
    "        return prediction        "
   ]
  },
  {
   "cell_type": "markdown",
   "id": "5c930c8b",
   "metadata": {},
   "source": [
    "<h3><a id='task_1'>1. В коде из методички реализуйте один или несколько из критериев останова (количество листьев, количество используемых признаков, глубина дерева и т.д.)</a></h3>"
   ]
  },
  {
   "cell_type": "code",
   "execution_count": 22,
   "id": "b4769565",
   "metadata": {},
   "outputs": [],
   "source": [
    "class MyTreeClassifier:\n",
    "    _root = None\n",
    "    _max_depth = None\n",
    "    _max_features = None\n",
    "    _min_leaves = None\n",
    "\n",
    "\n",
    "    def __init__(self, max_depth=None, max_features=None, min_leaves=3):\n",
    "        self._max_depth = max_depth\n",
    "        self._max_features = max_features\n",
    "        self._min_leaves = min_leaves\n",
    "\n",
    "\n",
    "    def _split(self, data, labels, column_index, threshold):\n",
    "        left = np.where(data[:, column_index] <= threshold)\n",
    "        right = np.where(data[:, column_index] > threshold)\n",
    "            \n",
    "        true_data = data[left]\n",
    "        false_data = data[right]\n",
    "        \n",
    "        true_labels = labels[left]\n",
    "        false_labels = labels[right]\n",
    "            \n",
    "        return true_data, false_data, true_labels, false_labels\n",
    "\n",
    "\n",
    "    def _gini(self, labels):\n",
    "        #  подсчет количества объектов разных классов\n",
    "        classes = {}\n",
    "        for label in labels:\n",
    "            if label not in classes:\n",
    "                classes[label] = 0\n",
    "            classes[label] += 1\n",
    "        \n",
    "        #  расчет критерия\n",
    "        impurity = 1\n",
    "        for label in classes:\n",
    "            p = classes[label] / len(labels)\n",
    "            impurity -= p ** 2\n",
    "            \n",
    "        return impurity\n",
    "\n",
    "\n",
    "    def _gain(self, left_labels, right_labels, root_gini):\n",
    "        p = float(left_labels.shape[0]) / (left_labels.shape[0] + right_labels.shape[0])\n",
    "        return root_gini - p * self._gini(left_labels) - (1 - p) * self._gini(right_labels)        \n",
    "\n",
    "\n",
    "    def _find_best_split(self, data, labels):\n",
    "        #  обозначим минимальное количество объектов в узле\n",
    "        min_samples_leaf = self._min_leaves\n",
    "        root_gini = self._gini(labels)\n",
    "\n",
    "        best_gain = 0\n",
    "        best_t = None\n",
    "        best_index = None\n",
    "\n",
    "        n_features = data.shape[1]\n",
    "\n",
    "        for index in range(n_features):\n",
    "            # будем проверять только уникальные значения признака, исключая повторения\n",
    "            t_values = np.unique(data[:, index])\n",
    "            \n",
    "            for t in t_values:\n",
    "                true_data, false_data, true_labels, false_labels = self._split(data, labels, index, t)\n",
    "\n",
    "                if len(true_data) < min_samples_leaf or len(false_data) < min_samples_leaf:\n",
    "                    continue\n",
    "                \n",
    "                current_gain = self._gain(true_labels, false_labels, root_gini)\n",
    "                \n",
    "                #  выбираем порог, на котором получается максимальный прирост качества\n",
    "                if current_gain > best_gain:\n",
    "                    best_gain, best_t, best_index = current_gain, t, index\n",
    "\n",
    "        return best_gain, best_t, best_index\n",
    "\n",
    "\n",
    "    def _build_tree(self, data, labels, current_depth):\n",
    "        # print(f'current_depth = {current_depth} max_depth = {self._max_depth}')\n",
    "\n",
    "        gain, t, index = self._find_best_split(data, labels)\n",
    "\n",
    "        #  Базовый случай - прекращаем рекурсию, когда нет прироста в качества\n",
    "        if gain == 0:\n",
    "            return Leaf(data, labels)\n",
    "\n",
    "        if self._max_depth:\n",
    "            if current_depth > self._max_depth:\n",
    "                return Leaf(data, labels)\n",
    "\n",
    "        # check feature number\n",
    "        if self._max_features:\n",
    "            n_features = min(data.shape[1], self._max_features)\n",
    "        else:\n",
    "            n_features = data.shape[1]\n",
    "\n",
    "        data_to_check = data[:, :n_features]\n",
    "        true_data, false_data, true_labels, false_labels = self._split(data_to_check, labels, index, t)\n",
    "\n",
    "        # Рекурсивно строим два поддерева\n",
    "        true_branch = self._build_tree(true_data, true_labels, current_depth+1)\n",
    "\n",
    "        false_branch = self._build_tree(false_data, false_labels, current_depth+1)\n",
    "        \n",
    "        # Возвращаем класс узла со всеми поддеревьями, то есть целого дерева\n",
    "        return Node(index, t, true_branch, false_branch)\n",
    "\n",
    "\n",
    "    def fit(self, X, y):\n",
    "        self._root = self._build_tree(X, y, 0)\n",
    "        \n",
    "        return self._root\n",
    "\n",
    "\n",
    "    def _classify_object(self, obj, node):\n",
    "        if isinstance(node, Leaf):\n",
    "            answer = node.prediction\n",
    "            return answer\n",
    "\n",
    "        if obj[node.index] <= node.t:\n",
    "            return self._classify_object(obj, node.true_branch)\n",
    "        else:\n",
    "            return self._classify_object(obj, node.false_branch)\n",
    "\n",
    "\n",
    "    def predict(self, data):\n",
    "        classes = []\n",
    "        for obj in data:\n",
    "            prediction = self._classify_object(obj, self._root)\n",
    "            classes.append(prediction)\n",
    "        return classes\n",
    "\n",
    "    # Напечатаем ход нашего дерева\n",
    "    def _print_tree(self, node, spacing=\"\"):\n",
    "\n",
    "        # Если лист, то выводим его прогноз\n",
    "        if isinstance(node, Leaf):\n",
    "            print(spacing + \"Прогноз:\", node.prediction)\n",
    "            return\n",
    "\n",
    "        # Выведем значение индекса и порога на этом узле\n",
    "        print(spacing + 'Индекс', str(node.index), '<=', str(node.t))\n",
    "\n",
    "        # Рекурсионный вызов функции на положительном поддереве\n",
    "        print(spacing + '--> True:')\n",
    "        self._print_tree(node.true_branch, spacing + \"  \")\n",
    "\n",
    "        # Рекурсионный вызов функции на отрицательном поддереве\n",
    "        print(spacing + '--> False:')\n",
    "        self._print_tree(node.false_branch, spacing + \"  \")\n",
    "        \n",
    "    def print(self):\n",
    "        self._print_tree(self._root)\n",
    "\n",
    "\n",
    "\n",
    "\n"
   ]
  },
  {
   "cell_type": "code",
   "execution_count": 9,
   "id": "34e2bd23",
   "metadata": {},
   "outputs": [],
   "source": [
    "# Разобьем выборку на обучающую и тестовую\n",
    "\n",
    "from sklearn.model_selection import train_test_split\n",
    "\n",
    "train_data, test_data, train_labels, test_labels = train_test_split(classification_data, \n",
    "                                                                    classification_labels, \n",
    "                                                                    test_size=0.3,\n",
    "                                                                    random_state=1)"
   ]
  },
  {
   "cell_type": "code",
   "execution_count": 10,
   "id": "d22cc754",
   "metadata": {},
   "outputs": [],
   "source": [
    "test = MyTreeClassifier(max_depth=20, max_features=1, min_leaves=1)"
   ]
  },
  {
   "cell_type": "code",
   "execution_count": 11,
   "id": "855fa672",
   "metadata": {},
   "outputs": [
    {
     "data": {
      "text/plain": [
       "<__main__.Node at 0x25fd7fad3a0>"
      ]
     },
     "execution_count": 11,
     "metadata": {},
     "output_type": "execute_result"
    }
   ],
   "source": [
    "test.fit(train_data, train_labels)"
   ]
  },
  {
   "cell_type": "code",
   "execution_count": 12,
   "id": "0f31f21e",
   "metadata": {},
   "outputs": [],
   "source": [
    "res = test.predict(train_data)"
   ]
  },
  {
   "cell_type": "code",
   "execution_count": 13,
   "id": "37e25ae1",
   "metadata": {},
   "outputs": [
    {
     "name": "stdout",
     "output_type": "stream",
     "text": [
      "Индекс 0 <= 0.16261402870113306\n",
      "--> True:\n",
      "  Индекс 0 <= -0.11161924805848533\n",
      "  --> True:\n",
      "    Индекс 0 <= -0.8725985883473684\n",
      "    --> True:\n",
      "      Прогноз: 0\n",
      "    --> False:\n",
      "      Индекс 0 <= -0.8411814419026544\n",
      "      --> True:\n",
      "        Прогноз: 1\n",
      "      --> False:\n",
      "        Прогноз: 0\n",
      "  --> False:\n",
      "    Индекс 0 <= -0.05163250299323496\n",
      "    --> True:\n",
      "      Индекс 0 <= -0.09195833713035761\n",
      "      --> True:\n",
      "        Индекс 0 <= -0.09712237000978252\n",
      "        --> True:\n",
      "          Прогноз: 1\n",
      "        --> False:\n",
      "          Прогноз: 0\n",
      "      --> False:\n",
      "        Прогноз: 1\n",
      "    --> False:\n",
      "      Индекс 0 <= -0.02676286201867817\n",
      "      --> True:\n",
      "        Прогноз: 0\n",
      "      --> False:\n",
      "        Индекс 0 <= 0.08490007282712542\n",
      "        --> True:\n",
      "          Прогноз: 1\n",
      "        --> False:\n",
      "          Прогноз: 0\n",
      "--> False:\n",
      "  Прогноз: 1\n"
     ]
    }
   ],
   "source": [
    "test.print()"
   ]
  },
  {
   "cell_type": "code",
   "execution_count": 14,
   "id": "2d3a1aa4",
   "metadata": {},
   "outputs": [],
   "source": [
    "# Введем функцию подсчета точности как доли правильных ответов\n",
    "def accuracy_metric(actual, predicted):\n",
    "    correct = 0\n",
    "    for i in range(len(actual)):\n",
    "        if actual[i] == predicted[i]:\n",
    "            correct += 1\n",
    "    return correct / float(len(actual)) * 100.0"
   ]
  },
  {
   "cell_type": "code",
   "execution_count": 15,
   "id": "443d11f4",
   "metadata": {},
   "outputs": [],
   "source": [
    "# Получим ответы для обучающей выборки \n",
    "train_answers = test.predict(train_data)"
   ]
  },
  {
   "cell_type": "code",
   "execution_count": 16,
   "id": "44e300a5",
   "metadata": {},
   "outputs": [],
   "source": [
    "# И получим ответы для тестовой выборки\n",
    "answers = test.predict(test_data)"
   ]
  },
  {
   "cell_type": "code",
   "execution_count": 17,
   "id": "ebfb00a9",
   "metadata": {},
   "outputs": [
    {
     "data": {
      "text/plain": [
       "100.0"
      ]
     },
     "execution_count": 17,
     "metadata": {},
     "output_type": "execute_result"
    }
   ],
   "source": [
    "# Точность на обучающей выборке\n",
    "train_accuracy = accuracy_metric(train_labels, train_answers)\n",
    "train_accuracy"
   ]
  },
  {
   "cell_type": "code",
   "execution_count": 18,
   "id": "f4d2d55a",
   "metadata": {},
   "outputs": [
    {
     "data": {
      "text/plain": [
       "96.66666666666667"
      ]
     },
     "execution_count": 18,
     "metadata": {},
     "output_type": "execute_result"
    }
   ],
   "source": [
    "# Точность на тестовой выборке\n",
    "test_accuracy = accuracy_metric(test_labels, answers)\n",
    "test_accuracy"
   ]
  },
  {
   "cell_type": "code",
   "execution_count": 19,
   "id": "3595605e",
   "metadata": {},
   "outputs": [],
   "source": [
    "# Визуализируем дерево на графике\n",
    "\n",
    "def get_meshgrid(data, step=.05, border=1.2):\n",
    "    x_min, x_max = data[:, 0].min() - border, data[:, 0].max() + border\n",
    "    y_min, y_max = data[:, 1].min() - border, data[:, 1].max() + border\n",
    "    return np.meshgrid(np.arange(x_min, x_max, step), np.arange(y_min, y_max, step))\n",
    "\n",
    "\n",
    "def visualize(model: MyTreeClassifier, train_data, test_data):\n",
    "    plt.figure(figsize = (16, 7))\n",
    "\n",
    "    # график обучающей выборки\n",
    "    plt.subplot(1,2,1)\n",
    "    xx, yy = get_meshgrid(train_data)\n",
    "    mesh_predictions = np.array(model.predict(np.c_[xx.ravel(), yy.ravel()])).reshape(xx.shape)\n",
    "    plt.pcolormesh(xx, yy, mesh_predictions, cmap = light_colors)\n",
    "    plt.scatter(train_data[:, 0], train_data[:, 1], c = train_labels, cmap = colors)\n",
    "    plt.title(f'Train accuracy={train_accuracy:.2f}')\n",
    "\n",
    "    # график тестовой выборки\n",
    "    plt.subplot(1,2,2)\n",
    "    plt.pcolormesh(xx, yy, mesh_predictions, cmap = light_colors)\n",
    "    plt.scatter(test_data[:, 0], test_data[:, 1], c = test_labels, cmap = colors)\n",
    "    plt.title(f'Test accuracy={test_accuracy:.2f}')"
   ]
  },
  {
   "cell_type": "code",
   "execution_count": 21,
   "id": "c935b0bc",
   "metadata": {},
   "outputs": [
    {
     "data": {
      "image/png": "[encoded data removed]",
      "text/plain": [
       "<Figure size 1152x504 with 2 Axes>"
      ]
     },
     "metadata": {
      "needs_background": "light"
     },
     "output_type": "display_data"
    }
   ],
   "source": [
    "visualize(test, train_data, test_data)"
   ]
  },
  {
   "cell_type": "code",
   "execution_count": null,
   "id": "44302aaa",
   "metadata": {},
   "outputs": [],
   "source": []
  },
  {
   "cell_type": "markdown",
   "id": "60e47928",
   "metadata": {},
   "source": [
    "<h3><a id='task_2'>2. *Реализуйте дерево для задачи регрессии. Возьмите за основу дерево, реализованное в методичке, заменив механизм предсказания в листе на взятие среднего значения по выборке, и критерий Джини на дисперсию значений.</a></h3>"
   ]
  },
  {
   "cell_type": "markdown",
   "id": "b3fa211e",
   "metadata": {},
   "source": [
    "В случае **регрессии** разброс будет характеризоваться дисперсией или же *среднеквадратичным отклонением*, поэтому критерий информативности будет записан в виде\n",
    "\n",
    "$$H(X) = \\frac{1}{X}\\sum_{i\\in X}(y_{i} - \\bar{y}(X))^{2},$$\n",
    "\n",
    "или же *среднеабсолютным отклонением*:\n",
    "\n",
    "$$H(X) = \\frac{1}{X}\\sum_{i\\in X}(|y_{i} - \\bar{y}(X)|),$$\n",
    "\n",
    "\n",
    "где $\\bar{y}(X)$ - среднее значение ответа в выборке $X$:\n",
    "\n",
    "$$\\bar{y}(X) = \\frac{1}{|X|}\\sum_{i\\in X}y_{i}.$$"
   ]
  },
  {
   "cell_type": "code",
   "execution_count": 23,
   "id": "cac5e592",
   "metadata": {},
   "outputs": [],
   "source": [
    "class MyTreeRegression:\n",
    "    _root = None\n",
    "    _max_depth = None\n",
    "    _max_features = None\n",
    "    _min_leaves = None\n",
    "\n",
    "\n",
    "    def __init__(self, max_depth=None, max_features=None, min_leaves=3):\n",
    "        self._max_depth = max_depth\n",
    "        self._max_features = max_features\n",
    "        self._min_leaves = min_leaves\n",
    "\n",
    "\n",
    "    def _split(self, data, labels, column_index, threshold):\n",
    "        left = np.where(data[:, column_index] <= threshold)\n",
    "        right = np.where(data[:, column_index] > threshold)\n",
    "            \n",
    "        true_data = data[left]\n",
    "        false_data = data[right]\n",
    "        \n",
    "        true_labels = labels[left]\n",
    "        false_labels = labels[right]\n",
    "            \n",
    "        return true_data, false_data, true_labels, false_labels\n",
    "\n",
    "\n",
    "    def _mse(self, array):\n",
    "      mean = array.mean()\n",
    "      return np.mean((array - mean)**2)\n",
    "\n",
    "\n",
    "    def _gain(self, left_array, right_array, criterion):\n",
    "        p = float(left_array.shape[0]) / (left_array.shape[0] + right_array.shape[0])\n",
    "        return criterion - p * self._mse(left_array) - (1 - p) * self._mse(right_array)        \n",
    "\n",
    "\n",
    "    def _find_best_split(self, data, labels):\n",
    "        #  обозначим минимальное количество объектов в узле\n",
    "        min_samples_leaf = self._min_leaves\n",
    "        root_mse = self._mse(labels)\n",
    "\n",
    "        best_gain = 0\n",
    "        best_t = None\n",
    "        best_index = None\n",
    "\n",
    "        n_features = data.shape[1]\n",
    "\n",
    "        for index in range(n_features):\n",
    "            # будем проверять только уникальные значения признака, исключая повторения\n",
    "            t_values = np.unique(data[:, index])\n",
    "            \n",
    "            for t in t_values:\n",
    "                true_data, false_data, true_labels, false_labels = self._split(data, labels, index, t)\n",
    "\n",
    "                if len(true_data) < min_samples_leaf or len(false_data) < min_samples_leaf:\n",
    "                    continue\n",
    "                \n",
    "                current_gain = self._gain(true_labels, false_labels, root_mse)\n",
    "                \n",
    "                #  выбираем порог, на котором получается максимальный прирост качества\n",
    "                if current_gain > best_gain:\n",
    "                    best_gain, best_t, best_index = current_gain, t, index\n",
    "\n",
    "        return best_gain, best_t, best_index\n",
    "\n",
    "\n",
    "    def _build_tree(self, data, labels, current_depth):\n",
    "        # print(f'current_depth = {current_depth} max_depth = {self._max_depth}')\n",
    "\n",
    "        gain, t, index = self._find_best_split(data, labels)\n",
    "\n",
    "        #  Базовый случай - прекращаем рекурсию, когда нет прироста в качества\n",
    "        if gain == 0:\n",
    "            return Leaf(data, labels)\n",
    "\n",
    "        if self._max_depth:\n",
    "            if current_depth > self._max_depth:\n",
    "                return Leaf(data, labels)\n",
    "\n",
    "        # check feature number\n",
    "        if self._max_features:\n",
    "            n_features = min(data.shape[1], self._max_features)\n",
    "        else:\n",
    "            n_features = data.shape[1]\n",
    "\n",
    "        data_to_check = data[:, :n_features]\n",
    "        true_data, false_data, true_labels, false_labels = self._split(data_to_check, labels, index, t)\n",
    "\n",
    "        # Рекурсивно строим два поддерева\n",
    "        true_branch = self._build_tree(true_data, true_labels, current_depth+1)\n",
    "\n",
    "        false_branch = self._build_tree(false_data, false_labels, current_depth+1)\n",
    "        \n",
    "        # Возвращаем класс узла со всеми поддеревьями, то есть целого дерева\n",
    "        return Node(index, t, true_branch, false_branch)\n",
    "\n",
    "\n",
    "    def fit(self, X, y):\n",
    "        self._root = self._build_tree(X, y, 0)\n",
    "        \n",
    "        return self._root\n",
    "\n",
    "\n",
    "    def _classify_object(self, obj, node):\n",
    "        if isinstance(node, Leaf):\n",
    "            answer = node.prediction\n",
    "            return answer\n",
    "\n",
    "        if obj[node.index] <= node.t:\n",
    "            return self._classify_object(obj, node.true_branch)\n",
    "        else:\n",
    "            return self._classify_object(obj, node.false_branch)\n",
    "\n",
    "\n",
    "    def predict(self, data):\n",
    "        classes = []\n",
    "        for obj in data:\n",
    "            prediction = self._classify_object(obj, self._root)\n",
    "            classes.append(prediction)\n",
    "        return classes\n",
    "\n",
    "    # Напечатаем ход нашего дерева\n",
    "    def _print_tree(self, node, spacing=\"\"):\n",
    "\n",
    "        # Если лист, то выводим его прогноз\n",
    "        if isinstance(node, Leaf):\n",
    "            print(spacing + \"Прогноз:\", node.prediction)\n",
    "            return\n",
    "\n",
    "        # Выведем значение индекса и порога на этом узле\n",
    "        print(spacing + 'Индекс', str(node.index), '<=', str(node.t))\n",
    "\n",
    "        # Рекурсионный вызов функции на положительном поддереве\n",
    "        print(spacing + '--> True:')\n",
    "        self._print_tree(node.true_branch, spacing + \"  \")\n",
    "\n",
    "        # Рекурсионный вызов функции на отрицательном поддереве\n",
    "        print(spacing + '--> False:')\n",
    "        self._print_tree(node.false_branch, spacing + \"  \")\n",
    "        \n",
    "    def print(self):\n",
    "        self._print_tree(self._root)\n",
    "\n",
    "\n",
    "\n",
    "\n"
   ]
  },
  {
   "cell_type": "code",
   "execution_count": 36,
   "id": "f4b02f34",
   "metadata": {},
   "outputs": [],
   "source": [
    "# сгенерируем данные\n",
    "regression_data, regression_labels = make_regression(n_samples=100, n_features=1, n_informative=1, n_targets=1, bias=0.0, effective_rank=None, tail_strength=0.5, noise=10.0, shuffle=True, coef=False, random_state=None)\n"
   ]
  },
  {
   "cell_type": "code",
   "execution_count": 37,
   "id": "6ae3fba5",
   "metadata": {},
   "outputs": [
    {
     "data": {
      "image/png": "[encoded data removed]",
      "text/plain": [
       "<Figure size 576x576 with 1 Axes>"
      ]
     },
     "metadata": {
      "needs_background": "light"
     },
     "output_type": "display_data"
    }
   ],
   "source": [
    "plt.figure(figsize=(8,8))\n",
    "plt.scatter(regression_data, regression_labels);"
   ]
  },
  {
   "cell_type": "code",
   "execution_count": 38,
   "id": "c2294e67",
   "metadata": {},
   "outputs": [],
   "source": [
    "train_X, test_X, train_y, test_y = train_test_split(regression_data, \n",
    "                                                                    regression_labels, \n",
    "                                                                    test_size=0.3,\n",
    "                                                                    random_state=1)"
   ]
  },
  {
   "cell_type": "code",
   "execution_count": 40,
   "id": "3f788a69",
   "metadata": {},
   "outputs": [],
   "source": [
    "my_reg_model = MyTreeRegression(max_depth=100, max_features=100, min_leaves=5)"
   ]
  },
  {
   "cell_type": "code",
   "execution_count": 41,
   "id": "92744ef5",
   "metadata": {},
   "outputs": [
    {
     "data": {
      "text/plain": [
       "<__main__.Node at 0x25fd8f9cfa0>"
      ]
     },
     "execution_count": 41,
     "metadata": {},
     "output_type": "execute_result"
    }
   ],
   "source": [
    "my_reg_model.fit(train_X, train_y)"
   ]
  },
  {
   "cell_type": "code",
   "execution_count": 45,
   "id": "aa7a6b56",
   "metadata": {},
   "outputs": [],
   "source": [
    "result = my_reg_model.predict(test_X)"
   ]
  },
  {
   "cell_type": "code",
   "execution_count": 47,
   "id": "9b6ae4bd",
   "metadata": {},
   "outputs": [
    {
     "data": {
      "text/plain": [
       "<matplotlib.collections.PathCollection at 0x25fd90b19a0>"
      ]
     },
     "execution_count": 47,
     "metadata": {},
     "output_type": "execute_result"
    },
    {
     "data": {
      "image/png": "[encoded data removed]",
      "text/plain": [
       "<Figure size 576x576 with 1 Axes>"
      ]
     },
     "metadata": {
      "needs_background": "light"
     },
     "output_type": "display_data"
    }
   ],
   "source": [
    "plt.figure(figsize=(8,8))\n",
    "plt.scatter(test_X, test_y)\n",
    "plt.scatter(test_X, result,c='g')"
   ]
  },
  {
   "cell_type": "code",
   "execution_count": null,
   "id": "74b65fd4",
   "metadata": {},
   "outputs": [],
   "source": []
  }
 ],
 "metadata": {
  "kernelspec": {
   "display_name": "Python 3 (ipykernel)",
   "language": "python",
   "name": "python3"
  },
  "language_info": {
   "codemirror_mode": {
    "name": "ipython",
    "version": 3
   },
   "file_extension": ".py",
   "mimetype": "text/x-python",
   "name": "python",
   "nbconvert_exporter": "python",
   "pygments_lexer": "ipython3",
   "version": "3.9.7"
  },
  "vscode": {
   "interpreter": {
    "hash": "566d514644e037bdd52c90cd96f650ee5141d6fdd596d0ae69fd2c6c9a17e474"
   }
  }
 },
 "nbformat": 4,
 "nbformat_minor": 5
}
